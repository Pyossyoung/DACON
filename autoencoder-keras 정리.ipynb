{
 "cells": [
  {
   "cell_type": "code",
   "execution_count": 10,
   "metadata": {},
   "outputs": [],
   "source": [
    "import pandas as pd\n",
    "import numpy as np\n",
    "\n",
    "import tensorflow as tf\n",
    "from keras.models import Sequential\n",
    "from keras import layers\n",
    "from keras import optimizers\n",
    "from tensorflow.keras.layers import Conv2D, Conv2DTranspose, Dense, Flatten, Dropout, BatchNormalization, Reshape, LeakyReLU, Input\n",
    "from tensorflow.keras.models import Model"
   ]
  },
  {
   "cell_type": "markdown",
   "metadata": {},
   "source": [
    "#  Generater"
   ]
  },
  {
   "cell_type": "code",
   "execution_count": null,
   "metadata": {},
   "outputs": [],
   "source": [
    "def generator(data, lookback, min_index, max_index, batch_size,\n",
    "             shuffle=False, step=1, delay=0):\n",
    "    \n",
    "    if max_index is None:\n",
    "        max_index = len(data) - delay -1\n",
    "        \n",
    "    i = min_index + lookback\n",
    "    \n",
    "    while 1:\n",
    "        if shuffle:\n",
    "            rows = np.random.randint(min_index+lookback, max_index, size=batch_size)\n",
    "    # min_index+lookback과 max_index 사이의 숫자를 batch_size만큼 만든다.\n",
    "    # 단순히 batch를 만들어주기 위해 index를 rows에 저장  \n",
    "        else:\n",
    "            if i + batch_size >= max_index:\n",
    "                i = min_index + lookback\n",
    "            \n",
    "            rows = np.arrange(i, min(i+batch_size, max_index))\n",
    "            i += len(rows)\n",
    "        \n",
    "        samples = np.zeros((len(rows), lookback//step , data.shape[-1]))\n",
    "        targets = np.zeros((len(rows), lookback//step , data.shape[-1]))\n",
    "        # shape = (batchsize, lookback, feature 수)\n",
    "        \n",
    "        for j, row in enumerate(rows):# j 는 0~batchsize, row는 index number\n",
    "            indices = range(rows[j]-lookback, rows[j], step)\n",
    "            samples[j] = data[indices]\n",
    "            targets[j] = data[indices]\n",
    "        \n",
    "        yield samples, targets"
   ]
  },
  {
   "cell_type": "markdown",
   "metadata": {},
   "source": [
    "# 그냥 Autoencoder"
   ]
  },
  {
   "cell_type": "markdown",
   "metadata": {},
   "source": [
    "## Encoder"
   ]
  },
  {
   "cell_type": "code",
   "execution_count": 11,
   "metadata": {},
   "outputs": [
    {
     "name": "stdout",
     "output_type": "stream",
     "text": [
      "Model: \"sequential_1\"\n",
      "_________________________________________________________________\n",
      "Layer (type)                 Output Shape              Param #   \n",
      "=================================================================\n",
      "conv2d (Conv2D)              (None, 28, 28, 32)        320       \n",
      "_________________________________________________________________\n",
      "batch_normalization (BatchNo (None, 28, 28, 32)        128       \n",
      "_________________________________________________________________\n",
      "leaky_re_lu (LeakyReLU)      (None, 28, 28, 32)        0         \n",
      "_________________________________________________________________\n",
      "conv2d_1 (Conv2D)            (None, 14, 14, 64)        18496     \n",
      "_________________________________________________________________\n",
      "batch_normalization_1 (Batch (None, 14, 14, 64)        256       \n",
      "_________________________________________________________________\n",
      "leaky_re_lu_1 (LeakyReLU)    (None, 14, 14, 64)        0         \n",
      "_________________________________________________________________\n",
      "conv2d_2 (Conv2D)            (None, 7, 7, 64)          36928     \n",
      "_________________________________________________________________\n",
      "batch_normalization_2 (Batch (None, 7, 7, 64)          256       \n",
      "_________________________________________________________________\n",
      "leaky_re_lu_2 (LeakyReLU)    (None, 7, 7, 64)          0         \n",
      "_________________________________________________________________\n",
      "conv2d_3 (Conv2D)            (None, 7, 7, 64)          36928     \n",
      "_________________________________________________________________\n",
      "batch_normalization_3 (Batch (None, 7, 7, 64)          256       \n",
      "_________________________________________________________________\n",
      "leaky_re_lu_3 (LeakyReLU)    (None, 7, 7, 64)          0         \n",
      "_________________________________________________________________\n",
      "flatten (Flatten)            (None, 3136)              0         \n",
      "_________________________________________________________________\n",
      "dense_1 (Dense)              (None, 16)                50192     \n",
      "=================================================================\n",
      "Total params: 143,760\n",
      "Trainable params: 143,312\n",
      "Non-trainable params: 448\n",
      "_________________________________________________________________\n"
     ]
    }
   ],
   "source": [
    "encoder = Sequential([\n",
    "    Input(shape=(28, 28, 1)),\n",
    "\n",
    "    Conv2D(32, 3, padding='same'), \n",
    "    BatchNormalization(),\n",
    "    LeakyReLU(),\n",
    "\n",
    "    Conv2D(64, 3, strides=2, padding='same'),\n",
    "    BatchNormalization(),\n",
    "    LeakyReLU(),\n",
    "\n",
    "    Conv2D(64, 3, strides=2, padding='same'),\n",
    "    BatchNormalization(),\n",
    "    LeakyReLU(),\n",
    "\n",
    "    Conv2D(64, 3, padding='same'),\n",
    "    BatchNormalization(),\n",
    "    LeakyReLU(),\n",
    "\n",
    "    Flatten(),\n",
    "    Dense(16)\n",
    "])\n",
    "\n",
    "encoder.summary()"
   ]
  },
  {
   "cell_type": "markdown",
   "metadata": {},
   "source": [
    "## Decoder"
   ]
  },
  {
   "cell_type": "code",
   "execution_count": 12,
   "metadata": {},
   "outputs": [
    {
     "name": "stdout",
     "output_type": "stream",
     "text": [
      "Model: \"sequential_2\"\n",
      "_________________________________________________________________\n",
      "Layer (type)                 Output Shape              Param #   \n",
      "=================================================================\n",
      "dense_2 (Dense)              (None, 3136)              53312     \n",
      "_________________________________________________________________\n",
      "reshape (Reshape)            (None, 7, 7, 64)          0         \n",
      "_________________________________________________________________\n",
      "conv2d_transpose (Conv2DTran (None, 7, 7, 64)          36928     \n",
      "_________________________________________________________________\n",
      "batch_normalization_4 (Batch (None, 7, 7, 64)          256       \n",
      "_________________________________________________________________\n",
      "leaky_re_lu_4 (LeakyReLU)    (None, 7, 7, 64)          0         \n",
      "_________________________________________________________________\n",
      "conv2d_transpose_1 (Conv2DTr (None, 14, 14, 64)        36928     \n",
      "_________________________________________________________________\n",
      "batch_normalization_5 (Batch (None, 14, 14, 64)        256       \n",
      "_________________________________________________________________\n",
      "leaky_re_lu_5 (LeakyReLU)    (None, 14, 14, 64)        0         \n",
      "_________________________________________________________________\n",
      "conv2d_transpose_2 (Conv2DTr (None, 28, 28, 64)        36928     \n",
      "_________________________________________________________________\n",
      "batch_normalization_6 (Batch (None, 28, 28, 64)        256       \n",
      "_________________________________________________________________\n",
      "leaky_re_lu_6 (LeakyReLU)    (None, 28, 28, 64)        0         \n",
      "_________________________________________________________________\n",
      "conv2d_transpose_3 (Conv2DTr (None, 28, 28, 32)        18464     \n",
      "_________________________________________________________________\n",
      "batch_normalization_7 (Batch (None, 28, 28, 32)        128       \n",
      "_________________________________________________________________\n",
      "leaky_re_lu_7 (LeakyReLU)    (None, 28, 28, 32)        0         \n",
      "_________________________________________________________________\n",
      "conv2d_transpose_4 (Conv2DTr (None, 28, 28, 1)         289       \n",
      "=================================================================\n",
      "Total params: 183,745\n",
      "Trainable params: 183,297\n",
      "Non-trainable params: 448\n",
      "_________________________________________________________________\n"
     ]
    }
   ],
   "source": [
    "\n",
    "decoder = Sequential([\n",
    "    Input(shape=(16)),\n",
    "\n",
    "    Dense(7*7*64), \n",
    "    Reshape((7, 7, 64)),\n",
    "    \n",
    "    Conv2DTranspose(64, 3, strides=1, padding='same'),\n",
    "    BatchNormalization(),\n",
    "    LeakyReLU(),\n",
    "\n",
    "    Conv2DTranspose(64, 3, strides=2, padding='same'),\n",
    "    BatchNormalization(),\n",
    "    LeakyReLU(),\n",
    "\n",
    "    Conv2DTranspose(64, 3, strides=2, padding='same'),\n",
    "    BatchNormalization(),\n",
    "    LeakyReLU(),\n",
    "\n",
    "    Conv2DTranspose(32, 3, strides=1, padding='same'),\n",
    "    BatchNormalization(),\n",
    "    LeakyReLU(),\n",
    "\n",
    "    Conv2DTranspose(1, 3, strides=1, padding='same', activation='sigmoid')\n",
    "])\n",
    "\n",
    "decoder.summary()"
   ]
  },
  {
   "cell_type": "markdown",
   "metadata": {},
   "source": [
    "## Encoder + Decoder 합쳐서 학습"
   ]
  },
  {
   "cell_type": "code",
   "execution_count": null,
   "metadata": {},
   "outputs": [],
   "source": [
    "encoder_in = Input(shape=(28, 28, 1))\n",
    "x = encoder(encoder_in)\n",
    "decoder_out = decoder(x)\n",
    "\n",
    "\n",
    "auto_encoder = Model(encoder_in, decoder_out)\n",
    "\n",
    "auto_encoder.compile(\n",
    "    loss='mse',\n",
    "    optimizer='sgd'\n",
    ")\n",
    "\n",
    "auto_encoder.fit(x_train, x_train, epochs=15)"
   ]
  },
  {
   "cell_type": "markdown",
   "metadata": {},
   "source": [
    "# 1. Timeseries anomaly detection using an Autoencoder\n",
    "## - conv1d사용\n",
    "\n",
    "https://keras.io/examples/timeseries/timeseries_anomaly_detection/\n",
    "\n",
    "input shape, output shape = (batch_size, timestep, num_features)\n",
    "\n",
    "-conv1d는 tf version 2.3에서 가능"
   ]
  },
  {
   "cell_type": "code",
   "execution_count": 13,
   "metadata": {
    "collapsed": true
   },
   "outputs": [
    {
     "ename": "AttributeError",
     "evalue": "module 'keras.layers' has no attribute 'Conv1DTranspose'",
     "output_type": "error",
     "traceback": [
      "\u001b[1;31m---------------------------------------------------------------------------\u001b[0m",
      "\u001b[1;31mAttributeError\u001b[0m                            Traceback (most recent call last)",
      "\u001b[1;32m<ipython-input-13-d3981978478b>\u001b[0m in \u001b[0;36m<module>\u001b[1;34m\u001b[0m\n\u001b[0;32m      9\u001b[0m             \u001b[0mfilters\u001b[0m\u001b[1;33m=\u001b[0m\u001b[1;36m16\u001b[0m\u001b[1;33m,\u001b[0m \u001b[0mkernel_size\u001b[0m\u001b[1;33m=\u001b[0m\u001b[1;36m7\u001b[0m\u001b[1;33m,\u001b[0m \u001b[0mpadding\u001b[0m\u001b[1;33m=\u001b[0m\u001b[1;34m\"same\"\u001b[0m\u001b[1;33m,\u001b[0m \u001b[0mstrides\u001b[0m\u001b[1;33m=\u001b[0m\u001b[1;36m2\u001b[0m\u001b[1;33m,\u001b[0m \u001b[0mactivation\u001b[0m\u001b[1;33m=\u001b[0m\u001b[1;34m\"relu\"\u001b[0m\u001b[1;33m\u001b[0m\u001b[1;33m\u001b[0m\u001b[0m\n\u001b[0;32m     10\u001b[0m         ),\n\u001b[1;32m---> 11\u001b[1;33m         layers.Conv1DTranspose(\n\u001b[0m\u001b[0;32m     12\u001b[0m             \u001b[0mfilters\u001b[0m\u001b[1;33m=\u001b[0m\u001b[1;36m16\u001b[0m\u001b[1;33m,\u001b[0m \u001b[0mkernel_size\u001b[0m\u001b[1;33m=\u001b[0m\u001b[1;36m7\u001b[0m\u001b[1;33m,\u001b[0m \u001b[0mpadding\u001b[0m\u001b[1;33m=\u001b[0m\u001b[1;34m\"same\"\u001b[0m\u001b[1;33m,\u001b[0m \u001b[0mstrides\u001b[0m\u001b[1;33m=\u001b[0m\u001b[1;36m2\u001b[0m\u001b[1;33m,\u001b[0m \u001b[0mactivation\u001b[0m\u001b[1;33m=\u001b[0m\u001b[1;34m\"relu\"\u001b[0m\u001b[1;33m\u001b[0m\u001b[1;33m\u001b[0m\u001b[0m\n\u001b[0;32m     13\u001b[0m         ),\n",
      "\u001b[1;31mAttributeError\u001b[0m: module 'keras.layers' has no attribute 'Conv1DTranspose'"
     ]
    }
   ],
   "source": [
    "model = Sequential(\n",
    "    [\n",
    "        layers.Input(shape=(90, 79)),\n",
    "        layers.Conv1D(\n",
    "            filters=32, kernel_size=7, padding=\"same\", strides=2, activation=\"relu\"\n",
    "        ),\n",
    "        layers.Dropout(rate=0.2),\n",
    "        layers.Conv1D(\n",
    "            filters=16, kernel_size=7, padding=\"same\", strides=2, activation=\"relu\"\n",
    "        ),\n",
    "        layers.Conv1DTranspose(\n",
    "            filters=16, kernel_size=7, padding=\"same\", strides=2, activation=\"relu\"\n",
    "        ),\n",
    "        layers.Dropout(rate=0.2),\n",
    "        layers.Conv1DTranspose(\n",
    "            filters=32, kernel_size=7, padding=\"same\", strides=2, activation=\"relu\"\n",
    "        ),\n",
    "        tf.kears.layers.Conv1DTranspose(filters=79, kernel_size=7, padding=\"same\"),\n",
    "    ]\n",
    ")\n",
    "model.compile(optimizer='adam', loss=\"mse\")\n",
    "model.summary()"
   ]
  },
  {
   "cell_type": "code",
   "execution_count": null,
   "metadata": {},
   "outputs": [],
   "source": [
    "history = model.fit(x_train,\n",
    "                    x_train,\n",
    "                    epochs=10,\n",
    "                    batch_size=128,\n",
    "                    validation_split=0.1)"
   ]
  },
  {
   "cell_type": "markdown",
   "metadata": {},
   "source": [
    "# 2. Time Series Anomaly Detection with LSTM Autoencoders using Keras in Python\n",
    "\n",
    "https://www.curiousily.com/posts/anomaly-detection-in-time-series-with-lstms-using-keras-in-python/\n",
    "\n",
    "https://towardsdatascience.com/step-by-step-understanding-lstm-autoencoder-layers-ffab055b6352"
   ]
  },
  {
   "cell_type": "markdown",
   "metadata": {},
   "source": [
    "# 층 요약\n",
    "encoder: LSTM_1(128, return_sequences=True)\n",
    "         LSTM_2(64, return_sequences=False)\n",
    "         \n",
    "RepeatVector_layer\n",
    "\n",
    "decoder: LSTM_3(64, return_sequences=True)\n",
    "         LSTM_4(128, return_sequences=False)\n",
    "         TimeDistributed(Dense(79))\n",
    "\n",
    "\n",
    "## Encoder\n",
    "#### return_sequences=True: LSTM layer가 sequence를 만듬.\n",
    "\n",
    "return_suquences = True 이면 LSTM에서 매 cell이 output을 내놓음.\n",
    "원래 input = (batchsize, timestep, features) 이면\n",
    "\n",
    "True인 LSTM   -> output = (batchsize, timestep, cell갯수) \n",
    "False인 LSTM  -> output = (batchsize, cell갯수)\n",
    "\n",
    "LSTM_2를 지나면 (batchsize, cell 갯수)로 encoding 됨\n",
    "\n",
    "##  RepeatVector layer: 단순히 input을 n번 반복함\n",
    "\n",
    "RepeatVector layer를 통해, encoding된 정보가 단순히 n개 복사되어서\n",
    "output = (batchsize, n, cell)로 늘어남. \n",
    "encoder와 decoder를 이어주는 다리 역할 (만약에 다음 layer가 단순히 Dense 라면, 이 RepeatVector layer 필요없음)\n",
    "\n",
    "## Decoder\n",
    "#### Encoder의 역순\n",
    "\n",
    "LSTM_3 -> output=(batchsize, n, cell)\n",
    "LSTM_3 -> output=(batchsize, n, cell)\n",
    "\n",
    "####  TimeDistributed layer: 전 layer의 outputs의 숫자와 같은 길이의 벡터를 생성.\n",
    "전의 output이 (n,cell)인데 여기서 (cell, 1)의 벡터를 생성하고 79번 곱한다.\n",
    "그러면 output이 맨처음 input이랑 형태가 같아진다.\n"
   ]
  },
  {
   "cell_type": "code",
   "execution_count": 6,
   "metadata": {
    "scrolled": true
   },
   "outputs": [
    {
     "name": "stdout",
     "output_type": "stream",
     "text": [
      "Model: \"sequential\"\n",
      "_________________________________________________________________\n",
      "Layer (type)                 Output Shape              Param #   \n",
      "=================================================================\n",
      "lstm (LSTM)                  (None, 90, 128)           111616    \n",
      "_________________________________________________________________\n",
      "lstm_1 (LSTM)                (None, 64)                49408     \n",
      "_________________________________________________________________\n",
      "repeat_vector (RepeatVector) (None, 90, 64)            0         \n",
      "_________________________________________________________________\n",
      "lstm_2 (LSTM)                (None, 90, 64)            33024     \n",
      "_________________________________________________________________\n",
      "lstm_3 (LSTM)                (None, 90, 128)           98816     \n",
      "_________________________________________________________________\n",
      "time_distributed (TimeDistri (None, 90, 89)            11481     \n",
      "=================================================================\n",
      "Total params: 304,345\n",
      "Trainable params: 304,345\n",
      "Non-trainable params: 0\n",
      "_________________________________________________________________\n"
     ]
    }
   ],
   "source": [
    "ts = 90\n",
    "model3 = Sequential()\n",
    "\n",
    "model3.add(layers.LSTM(128, activation='relu',\n",
    "                input_shape=(ts,89), return_sequences=True))\n",
    "model3.add(layers.LSTM(64, activation='relu', return_sequences=False))\n",
    "## encoder\n",
    "model3.add(layers.RepeatVector(ts))\n",
    "model3.add(layers.LSTM(64, activation='relu', return_sequences=True))\n",
    "model3.add(layers.LSTM(128, activation='relu', return_sequences=True))\n",
    "model3.add(layers.TimeDistributed(layers.Dense(89)))\n",
    "\n",
    "\n",
    "model3.compile(optimizer='adam', loss='mse')\n",
    "model3.summary()"
   ]
  }
 ],
 "metadata": {
  "kernelspec": {
   "display_name": "Python 3",
   "language": "python",
   "name": "python3"
  },
  "language_info": {
   "codemirror_mode": {
    "name": "ipython",
    "version": 3
   },
   "file_extension": ".py",
   "mimetype": "text/x-python",
   "name": "python",
   "nbconvert_exporter": "python",
   "pygments_lexer": "ipython3",
   "version": "3.7.7"
  }
 },
 "nbformat": 4,
 "nbformat_minor": 4
}
