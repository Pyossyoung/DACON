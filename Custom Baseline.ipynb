{
  "nbformat": 4,
  "nbformat_minor": 0,
  "metadata": {
    "colab": {
      "name": "Custom Baseline",
      "provenance": [],
      "toc_visible": true
    },
    "kernelspec": {
      "name": "python3",
      "display_name": "Python 3"
    },
    "accelerator": "GPU",
    "widgets": {
      "application/vnd.jupyter.widget-state+json": {
        "a5f9053c28f24de395b867bc53dab451": {
          "model_module": "@jupyter-widgets/controls",
          "model_name": "HBoxModel",
          "state": {
            "_view_name": "HBoxView",
            "_dom_classes": [],
            "_model_name": "HBoxModel",
            "_view_module": "@jupyter-widgets/controls",
            "_model_module_version": "1.5.0",
            "_view_count": null,
            "_view_module_version": "1.5.0",
            "box_style": "",
            "layout": "IPY_MODEL_a0f178433d694fa3990254bef9399f44",
            "_model_module": "@jupyter-widgets/controls",
            "children": [
              "IPY_MODEL_8e881e7a4f064c2da301b11ae959c085",
              "IPY_MODEL_d3a340bc939d4a65a0fff00c3bd44889"
            ]
          }
        },
        "a0f178433d694fa3990254bef9399f44": {
          "model_module": "@jupyter-widgets/base",
          "model_name": "LayoutModel",
          "state": {
            "_view_name": "LayoutView",
            "grid_template_rows": null,
            "right": null,
            "justify_content": null,
            "_view_module": "@jupyter-widgets/base",
            "overflow": null,
            "_model_module_version": "1.2.0",
            "_view_count": null,
            "flex_flow": null,
            "width": null,
            "min_width": null,
            "border": null,
            "align_items": null,
            "bottom": null,
            "_model_module": "@jupyter-widgets/base",
            "top": null,
            "grid_column": null,
            "overflow_y": null,
            "overflow_x": null,
            "grid_auto_flow": null,
            "grid_area": null,
            "grid_template_columns": null,
            "flex": null,
            "_model_name": "LayoutModel",
            "justify_items": null,
            "grid_row": null,
            "max_height": null,
            "align_content": null,
            "visibility": null,
            "align_self": null,
            "height": null,
            "min_height": null,
            "padding": null,
            "grid_auto_rows": null,
            "grid_gap": null,
            "max_width": null,
            "order": null,
            "_view_module_version": "1.2.0",
            "grid_template_areas": null,
            "object_position": null,
            "object_fit": null,
            "grid_auto_columns": null,
            "margin": null,
            "display": null,
            "left": null
          }
        },
        "8e881e7a4f064c2da301b11ae959c085": {
          "model_module": "@jupyter-widgets/controls",
          "model_name": "FloatProgressModel",
          "state": {
            "_view_name": "ProgressView",
            "style": "IPY_MODEL_410f7996374d402eacd40298fa2997f0",
            "_dom_classes": [],
            "description": "100%",
            "_model_name": "FloatProgressModel",
            "bar_style": "success",
            "max": 921514,
            "_view_module": "@jupyter-widgets/controls",
            "_model_module_version": "1.5.0",
            "value": 921514,
            "_view_count": null,
            "_view_module_version": "1.5.0",
            "orientation": "horizontal",
            "min": 0,
            "description_tooltip": null,
            "_model_module": "@jupyter-widgets/controls",
            "layout": "IPY_MODEL_ccacc3cd9e594441b9d36d7c6c8d80d6"
          }
        },
        "d3a340bc939d4a65a0fff00c3bd44889": {
          "model_module": "@jupyter-widgets/controls",
          "model_name": "HTMLModel",
          "state": {
            "_view_name": "HTMLView",
            "style": "IPY_MODEL_9a390d6187aa4f9992f0ae206898ec47",
            "_dom_classes": [],
            "description": "",
            "_model_name": "HTMLModel",
            "placeholder": "​",
            "_view_module": "@jupyter-widgets/controls",
            "_model_module_version": "1.5.0",
            "value": " 921514/921514 [07:05&lt;00:00, 2163.54it/s]",
            "_view_count": null,
            "_view_module_version": "1.5.0",
            "description_tooltip": null,
            "_model_module": "@jupyter-widgets/controls",
            "layout": "IPY_MODEL_e74f117ede844689b53efbbc815370f0"
          }
        },
        "410f7996374d402eacd40298fa2997f0": {
          "model_module": "@jupyter-widgets/controls",
          "model_name": "ProgressStyleModel",
          "state": {
            "_view_name": "StyleView",
            "_model_name": "ProgressStyleModel",
            "description_width": "initial",
            "_view_module": "@jupyter-widgets/base",
            "_model_module_version": "1.5.0",
            "_view_count": null,
            "_view_module_version": "1.2.0",
            "bar_color": null,
            "_model_module": "@jupyter-widgets/controls"
          }
        },
        "ccacc3cd9e594441b9d36d7c6c8d80d6": {
          "model_module": "@jupyter-widgets/base",
          "model_name": "LayoutModel",
          "state": {
            "_view_name": "LayoutView",
            "grid_template_rows": null,
            "right": null,
            "justify_content": null,
            "_view_module": "@jupyter-widgets/base",
            "overflow": null,
            "_model_module_version": "1.2.0",
            "_view_count": null,
            "flex_flow": null,
            "width": null,
            "min_width": null,
            "border": null,
            "align_items": null,
            "bottom": null,
            "_model_module": "@jupyter-widgets/base",
            "top": null,
            "grid_column": null,
            "overflow_y": null,
            "overflow_x": null,
            "grid_auto_flow": null,
            "grid_area": null,
            "grid_template_columns": null,
            "flex": null,
            "_model_name": "LayoutModel",
            "justify_items": null,
            "grid_row": null,
            "max_height": null,
            "align_content": null,
            "visibility": null,
            "align_self": null,
            "height": null,
            "min_height": null,
            "padding": null,
            "grid_auto_rows": null,
            "grid_gap": null,
            "max_width": null,
            "order": null,
            "_view_module_version": "1.2.0",
            "grid_template_areas": null,
            "object_position": null,
            "object_fit": null,
            "grid_auto_columns": null,
            "margin": null,
            "display": null,
            "left": null
          }
        },
        "9a390d6187aa4f9992f0ae206898ec47": {
          "model_module": "@jupyter-widgets/controls",
          "model_name": "DescriptionStyleModel",
          "state": {
            "_view_name": "StyleView",
            "_model_name": "DescriptionStyleModel",
            "description_width": "",
            "_view_module": "@jupyter-widgets/base",
            "_model_module_version": "1.5.0",
            "_view_count": null,
            "_view_module_version": "1.2.0",
            "_model_module": "@jupyter-widgets/controls"
          }
        },
        "e74f117ede844689b53efbbc815370f0": {
          "model_module": "@jupyter-widgets/base",
          "model_name": "LayoutModel",
          "state": {
            "_view_name": "LayoutView",
            "grid_template_rows": null,
            "right": null,
            "justify_content": null,
            "_view_module": "@jupyter-widgets/base",
            "overflow": null,
            "_model_module_version": "1.2.0",
            "_view_count": null,
            "flex_flow": null,
            "width": null,
            "min_width": null,
            "border": null,
            "align_items": null,
            "bottom": null,
            "_model_module": "@jupyter-widgets/base",
            "top": null,
            "grid_column": null,
            "overflow_y": null,
            "overflow_x": null,
            "grid_auto_flow": null,
            "grid_area": null,
            "grid_template_columns": null,
            "flex": null,
            "_model_name": "LayoutModel",
            "justify_items": null,
            "grid_row": null,
            "max_height": null,
            "align_content": null,
            "visibility": null,
            "align_self": null,
            "height": null,
            "min_height": null,
            "padding": null,
            "grid_auto_rows": null,
            "grid_gap": null,
            "max_width": null,
            "order": null,
            "_view_module_version": "1.2.0",
            "grid_template_areas": null,
            "object_position": null,
            "object_fit": null,
            "grid_auto_columns": null,
            "margin": null,
            "display": null,
            "left": null
          }
        },
        "5574d6651cc3455ab19411b68283df31": {
          "model_module": "@jupyter-widgets/controls",
          "model_name": "HBoxModel",
          "state": {
            "_view_name": "HBoxView",
            "_dom_classes": [],
            "_model_name": "HBoxModel",
            "_view_module": "@jupyter-widgets/controls",
            "_model_module_version": "1.5.0",
            "_view_count": null,
            "_view_module_version": "1.5.0",
            "box_style": "",
            "layout": "IPY_MODEL_aae1513eec8343109cd086fbe816ace8",
            "_model_module": "@jupyter-widgets/controls",
            "children": [
              "IPY_MODEL_5d7d8838853d4082984f306b6bbf0fc5",
              "IPY_MODEL_e62ebcd48d274a4c80819d75ad0d5a0f"
            ]
          }
        },
        "aae1513eec8343109cd086fbe816ace8": {
          "model_module": "@jupyter-widgets/base",
          "model_name": "LayoutModel",
          "state": {
            "_view_name": "LayoutView",
            "grid_template_rows": null,
            "right": null,
            "justify_content": null,
            "_view_module": "@jupyter-widgets/base",
            "overflow": null,
            "_model_module_version": "1.2.0",
            "_view_count": null,
            "flex_flow": null,
            "width": null,
            "min_width": null,
            "border": null,
            "align_items": null,
            "bottom": null,
            "_model_module": "@jupyter-widgets/base",
            "top": null,
            "grid_column": null,
            "overflow_y": null,
            "overflow_x": null,
            "grid_auto_flow": null,
            "grid_area": null,
            "grid_template_columns": null,
            "flex": null,
            "_model_name": "LayoutModel",
            "justify_items": null,
            "grid_row": null,
            "max_height": null,
            "align_content": null,
            "visibility": null,
            "align_self": null,
            "height": null,
            "min_height": null,
            "padding": null,
            "grid_auto_rows": null,
            "grid_gap": null,
            "max_width": null,
            "order": null,
            "_view_module_version": "1.2.0",
            "grid_template_areas": null,
            "object_position": null,
            "object_fit": null,
            "grid_auto_columns": null,
            "margin": null,
            "display": null,
            "left": null
          }
        },
        "5d7d8838853d4082984f306b6bbf0fc5": {
          "model_module": "@jupyter-widgets/controls",
          "model_name": "FloatProgressModel",
          "state": {
            "_view_name": "ProgressView",
            "style": "IPY_MODEL_b47c1af4d7404a4f9d4ca05691437839",
            "_dom_classes": [],
            "description": "100%",
            "_model_name": "FloatProgressModel",
            "bar_style": "success",
            "max": 43112,
            "_view_module": "@jupyter-widgets/controls",
            "_model_module_version": "1.5.0",
            "value": 43112,
            "_view_count": null,
            "_view_module_version": "1.5.0",
            "orientation": "horizontal",
            "min": 0,
            "description_tooltip": null,
            "_model_module": "@jupyter-widgets/controls",
            "layout": "IPY_MODEL_28511ebec6cc4e7b9477dfda02f640b0"
          }
        },
        "e62ebcd48d274a4c80819d75ad0d5a0f": {
          "model_module": "@jupyter-widgets/controls",
          "model_name": "HTMLModel",
          "state": {
            "_view_name": "HTMLView",
            "style": "IPY_MODEL_87c2145e3bc448738c0fdba7413ff596",
            "_dom_classes": [],
            "description": "",
            "_model_name": "HTMLModel",
            "placeholder": "​",
            "_view_module": "@jupyter-widgets/controls",
            "_model_module_version": "1.5.0",
            "value": " 43112/43112 [01:43&lt;00:00, 414.59it/s]",
            "_view_count": null,
            "_view_module_version": "1.5.0",
            "description_tooltip": null,
            "_model_module": "@jupyter-widgets/controls",
            "layout": "IPY_MODEL_361823d24043441dacbd59b00a88acee"
          }
        },
        "b47c1af4d7404a4f9d4ca05691437839": {
          "model_module": "@jupyter-widgets/controls",
          "model_name": "ProgressStyleModel",
          "state": {
            "_view_name": "StyleView",
            "_model_name": "ProgressStyleModel",
            "description_width": "initial",
            "_view_module": "@jupyter-widgets/base",
            "_model_module_version": "1.5.0",
            "_view_count": null,
            "_view_module_version": "1.2.0",
            "bar_color": null,
            "_model_module": "@jupyter-widgets/controls"
          }
        },
        "28511ebec6cc4e7b9477dfda02f640b0": {
          "model_module": "@jupyter-widgets/base",
          "model_name": "LayoutModel",
          "state": {
            "_view_name": "LayoutView",
            "grid_template_rows": null,
            "right": null,
            "justify_content": null,
            "_view_module": "@jupyter-widgets/base",
            "overflow": null,
            "_model_module_version": "1.2.0",
            "_view_count": null,
            "flex_flow": null,
            "width": null,
            "min_width": null,
            "border": null,
            "align_items": null,
            "bottom": null,
            "_model_module": "@jupyter-widgets/base",
            "top": null,
            "grid_column": null,
            "overflow_y": null,
            "overflow_x": null,
            "grid_auto_flow": null,
            "grid_area": null,
            "grid_template_columns": null,
            "flex": null,
            "_model_name": "LayoutModel",
            "justify_items": null,
            "grid_row": null,
            "max_height": null,
            "align_content": null,
            "visibility": null,
            "align_self": null,
            "height": null,
            "min_height": null,
            "padding": null,
            "grid_auto_rows": null,
            "grid_gap": null,
            "max_width": null,
            "order": null,
            "_view_module_version": "1.2.0",
            "grid_template_areas": null,
            "object_position": null,
            "object_fit": null,
            "grid_auto_columns": null,
            "margin": null,
            "display": null,
            "left": null
          }
        },
        "87c2145e3bc448738c0fdba7413ff596": {
          "model_module": "@jupyter-widgets/controls",
          "model_name": "DescriptionStyleModel",
          "state": {
            "_view_name": "StyleView",
            "_model_name": "DescriptionStyleModel",
            "description_width": "",
            "_view_module": "@jupyter-widgets/base",
            "_model_module_version": "1.5.0",
            "_view_count": null,
            "_view_module_version": "1.2.0",
            "_model_module": "@jupyter-widgets/controls"
          }
        },
        "361823d24043441dacbd59b00a88acee": {
          "model_module": "@jupyter-widgets/base",
          "model_name": "LayoutModel",
          "state": {
            "_view_name": "LayoutView",
            "grid_template_rows": null,
            "right": null,
            "justify_content": null,
            "_view_module": "@jupyter-widgets/base",
            "overflow": null,
            "_model_module_version": "1.2.0",
            "_view_count": null,
            "flex_flow": null,
            "width": null,
            "min_width": null,
            "border": null,
            "align_items": null,
            "bottom": null,
            "_model_module": "@jupyter-widgets/base",
            "top": null,
            "grid_column": null,
            "overflow_y": null,
            "overflow_x": null,
            "grid_auto_flow": null,
            "grid_area": null,
            "grid_template_columns": null,
            "flex": null,
            "_model_name": "LayoutModel",
            "justify_items": null,
            "grid_row": null,
            "max_height": null,
            "align_content": null,
            "visibility": null,
            "align_self": null,
            "height": null,
            "min_height": null,
            "padding": null,
            "grid_auto_rows": null,
            "grid_gap": null,
            "max_width": null,
            "order": null,
            "_view_module_version": "1.2.0",
            "grid_template_areas": null,
            "object_position": null,
            "object_fit": null,
            "grid_auto_columns": null,
            "margin": null,
            "display": null,
            "left": null
          }
        },
        "d452ead9b41e47d0bc02fadb6e7041ed": {
          "model_module": "@jupyter-widgets/controls",
          "model_name": "HBoxModel",
          "state": {
            "_view_name": "HBoxView",
            "_dom_classes": [],
            "_model_name": "HBoxModel",
            "_view_module": "@jupyter-widgets/controls",
            "_model_module_version": "1.5.0",
            "_view_count": null,
            "_view_module_version": "1.5.0",
            "box_style": "",
            "layout": "IPY_MODEL_e013d43d3d0e4eedbf4a8d95456f7fcb",
            "_model_module": "@jupyter-widgets/controls",
            "children": [
              "IPY_MODEL_d0b7bc59b7e846d49caa395eb75aeceb",
              "IPY_MODEL_6fcd871b500f4068ac7cd06fd416d52a"
            ]
          }
        },
        "e013d43d3d0e4eedbf4a8d95456f7fcb": {
          "model_module": "@jupyter-widgets/base",
          "model_name": "LayoutModel",
          "state": {
            "_view_name": "LayoutView",
            "grid_template_rows": null,
            "right": null,
            "justify_content": null,
            "_view_module": "@jupyter-widgets/base",
            "overflow": null,
            "_model_module_version": "1.2.0",
            "_view_count": null,
            "flex_flow": null,
            "width": null,
            "min_width": null,
            "border": null,
            "align_items": null,
            "bottom": null,
            "_model_module": "@jupyter-widgets/base",
            "top": null,
            "grid_column": null,
            "overflow_y": null,
            "overflow_x": null,
            "grid_auto_flow": null,
            "grid_area": null,
            "grid_template_columns": null,
            "flex": null,
            "_model_name": "LayoutModel",
            "justify_items": null,
            "grid_row": null,
            "max_height": null,
            "align_content": null,
            "visibility": null,
            "align_self": null,
            "height": null,
            "min_height": null,
            "padding": null,
            "grid_auto_rows": null,
            "grid_gap": null,
            "max_width": null,
            "order": null,
            "_view_module_version": "1.2.0",
            "grid_template_areas": null,
            "object_position": null,
            "object_fit": null,
            "grid_auto_columns": null,
            "margin": null,
            "display": null,
            "left": null
          }
        },
        "d0b7bc59b7e846d49caa395eb75aeceb": {
          "model_module": "@jupyter-widgets/controls",
          "model_name": "FloatProgressModel",
          "state": {
            "_view_name": "ProgressView",
            "style": "IPY_MODEL_2a30c0c7e22e439b89bb37c828a368a4",
            "_dom_classes": [],
            "description": "100%",
            "_model_name": "FloatProgressModel",
            "bar_style": "success",
            "max": 358715,
            "_view_module": "@jupyter-widgets/controls",
            "_model_module_version": "1.5.0",
            "value": 358715,
            "_view_count": null,
            "_view_module_version": "1.5.0",
            "orientation": "horizontal",
            "min": 0,
            "description_tooltip": null,
            "_model_module": "@jupyter-widgets/controls",
            "layout": "IPY_MODEL_98ecd0f9a87c491985075c05ce865099"
          }
        },
        "6fcd871b500f4068ac7cd06fd416d52a": {
          "model_module": "@jupyter-widgets/controls",
          "model_name": "HTMLModel",
          "state": {
            "_view_name": "HTMLView",
            "style": "IPY_MODEL_18421c5029a646c3b95c68c5714315ac",
            "_dom_classes": [],
            "description": "",
            "_model_name": "HTMLModel",
            "placeholder": "​",
            "_view_module": "@jupyter-widgets/controls",
            "_model_module_version": "1.5.0",
            "value": " 358715/358715 [01:34&lt;00:00, 3780.42it/s]",
            "_view_count": null,
            "_view_module_version": "1.5.0",
            "description_tooltip": null,
            "_model_module": "@jupyter-widgets/controls",
            "layout": "IPY_MODEL_3a8bfb6d5e914b5483f00d7db35e5aa9"
          }
        },
        "2a30c0c7e22e439b89bb37c828a368a4": {
          "model_module": "@jupyter-widgets/controls",
          "model_name": "ProgressStyleModel",
          "state": {
            "_view_name": "StyleView",
            "_model_name": "ProgressStyleModel",
            "description_width": "initial",
            "_view_module": "@jupyter-widgets/base",
            "_model_module_version": "1.5.0",
            "_view_count": null,
            "_view_module_version": "1.2.0",
            "bar_color": null,
            "_model_module": "@jupyter-widgets/controls"
          }
        },
        "98ecd0f9a87c491985075c05ce865099": {
          "model_module": "@jupyter-widgets/base",
          "model_name": "LayoutModel",
          "state": {
            "_view_name": "LayoutView",
            "grid_template_rows": null,
            "right": null,
            "justify_content": null,
            "_view_module": "@jupyter-widgets/base",
            "overflow": null,
            "_model_module_version": "1.2.0",
            "_view_count": null,
            "flex_flow": null,
            "width": null,
            "min_width": null,
            "border": null,
            "align_items": null,
            "bottom": null,
            "_model_module": "@jupyter-widgets/base",
            "top": null,
            "grid_column": null,
            "overflow_y": null,
            "overflow_x": null,
            "grid_auto_flow": null,
            "grid_area": null,
            "grid_template_columns": null,
            "flex": null,
            "_model_name": "LayoutModel",
            "justify_items": null,
            "grid_row": null,
            "max_height": null,
            "align_content": null,
            "visibility": null,
            "align_self": null,
            "height": null,
            "min_height": null,
            "padding": null,
            "grid_auto_rows": null,
            "grid_gap": null,
            "max_width": null,
            "order": null,
            "_view_module_version": "1.2.0",
            "grid_template_areas": null,
            "object_position": null,
            "object_fit": null,
            "grid_auto_columns": null,
            "margin": null,
            "display": null,
            "left": null
          }
        },
        "18421c5029a646c3b95c68c5714315ac": {
          "model_module": "@jupyter-widgets/controls",
          "model_name": "DescriptionStyleModel",
          "state": {
            "_view_name": "StyleView",
            "_model_name": "DescriptionStyleModel",
            "description_width": "",
            "_view_module": "@jupyter-widgets/base",
            "_model_module_version": "1.5.0",
            "_view_count": null,
            "_view_module_version": "1.2.0",
            "_model_module": "@jupyter-widgets/controls"
          }
        },
        "3a8bfb6d5e914b5483f00d7db35e5aa9": {
          "model_module": "@jupyter-widgets/base",
          "model_name": "LayoutModel",
          "state": {
            "_view_name": "LayoutView",
            "grid_template_rows": null,
            "right": null,
            "justify_content": null,
            "_view_module": "@jupyter-widgets/base",
            "overflow": null,
            "_model_module_version": "1.2.0",
            "_view_count": null,
            "flex_flow": null,
            "width": null,
            "min_width": null,
            "border": null,
            "align_items": null,
            "bottom": null,
            "_model_module": "@jupyter-widgets/base",
            "top": null,
            "grid_column": null,
            "overflow_y": null,
            "overflow_x": null,
            "grid_auto_flow": null,
            "grid_area": null,
            "grid_template_columns": null,
            "flex": null,
            "_model_name": "LayoutModel",
            "justify_items": null,
            "grid_row": null,
            "max_height": null,
            "align_content": null,
            "visibility": null,
            "align_self": null,
            "height": null,
            "min_height": null,
            "padding": null,
            "grid_auto_rows": null,
            "grid_gap": null,
            "max_width": null,
            "order": null,
            "_view_module_version": "1.2.0",
            "grid_template_areas": null,
            "object_position": null,
            "object_fit": null,
            "grid_auto_columns": null,
            "margin": null,
            "display": null,
            "left": null
          }
        },
        "5045028132e547dc86968621fc359bb4": {
          "model_module": "@jupyter-widgets/controls",
          "model_name": "HBoxModel",
          "state": {
            "_view_name": "HBoxView",
            "_dom_classes": [],
            "_model_name": "HBoxModel",
            "_view_module": "@jupyter-widgets/controls",
            "_model_module_version": "1.5.0",
            "_view_count": null,
            "_view_module_version": "1.5.0",
            "box_style": "",
            "layout": "IPY_MODEL_f256b3f0f00a4adab7c947d34ad4281a",
            "_model_module": "@jupyter-widgets/controls",
            "children": [
              "IPY_MODEL_763fa5c2fa7d4a0d888f87b29c1b8895",
              "IPY_MODEL_b3ff27a6cd324b20a9b72fc9b63360cf"
            ]
          }
        },
        "f256b3f0f00a4adab7c947d34ad4281a": {
          "model_module": "@jupyter-widgets/base",
          "model_name": "LayoutModel",
          "state": {
            "_view_name": "LayoutView",
            "grid_template_rows": null,
            "right": null,
            "justify_content": null,
            "_view_module": "@jupyter-widgets/base",
            "overflow": null,
            "_model_module_version": "1.2.0",
            "_view_count": null,
            "flex_flow": null,
            "width": null,
            "min_width": null,
            "border": null,
            "align_items": null,
            "bottom": null,
            "_model_module": "@jupyter-widgets/base",
            "top": null,
            "grid_column": null,
            "overflow_y": null,
            "overflow_x": null,
            "grid_auto_flow": null,
            "grid_area": null,
            "grid_template_columns": null,
            "flex": null,
            "_model_name": "LayoutModel",
            "justify_items": null,
            "grid_row": null,
            "max_height": null,
            "align_content": null,
            "visibility": null,
            "align_self": null,
            "height": null,
            "min_height": null,
            "padding": null,
            "grid_auto_rows": null,
            "grid_gap": null,
            "max_width": null,
            "order": null,
            "_view_module_version": "1.2.0",
            "grid_template_areas": null,
            "object_position": null,
            "object_fit": null,
            "grid_auto_columns": null,
            "margin": null,
            "display": null,
            "left": null
          }
        },
        "763fa5c2fa7d4a0d888f87b29c1b8895": {
          "model_module": "@jupyter-widgets/controls",
          "model_name": "FloatProgressModel",
          "state": {
            "_view_name": "ProgressView",
            "style": "IPY_MODEL_e9bd19385e8f4a92a42750d6e5f64a03",
            "_dom_classes": [],
            "description": "training:   0%",
            "_model_name": "FloatProgressModel",
            "bar_style": "danger",
            "max": 50,
            "_view_module": "@jupyter-widgets/controls",
            "_model_module_version": "1.5.0",
            "value": 0,
            "_view_count": null,
            "_view_module_version": "1.5.0",
            "orientation": "horizontal",
            "min": 0,
            "description_tooltip": null,
            "_model_module": "@jupyter-widgets/controls",
            "layout": "IPY_MODEL_c1f0e47b6b8d47de8ce338cb26ad76f0"
          }
        },
        "b3ff27a6cd324b20a9b72fc9b63360cf": {
          "model_module": "@jupyter-widgets/controls",
          "model_name": "HTMLModel",
          "state": {
            "_view_name": "HTMLView",
            "style": "IPY_MODEL_9f484cb3a34c4ee0850821ff8fc8b749",
            "_dom_classes": [],
            "description": "",
            "_model_name": "HTMLModel",
            "placeholder": "​",
            "_view_module": "@jupyter-widgets/controls",
            "_model_module_version": "1.5.0",
            "value": " 0/50 [00:00&lt;?, ?it/s]",
            "_view_count": null,
            "_view_module_version": "1.5.0",
            "description_tooltip": null,
            "_model_module": "@jupyter-widgets/controls",
            "layout": "IPY_MODEL_a7db6d4aba07470899f46fc09f02d608"
          }
        },
        "e9bd19385e8f4a92a42750d6e5f64a03": {
          "model_module": "@jupyter-widgets/controls",
          "model_name": "ProgressStyleModel",
          "state": {
            "_view_name": "StyleView",
            "_model_name": "ProgressStyleModel",
            "description_width": "initial",
            "_view_module": "@jupyter-widgets/base",
            "_model_module_version": "1.5.0",
            "_view_count": null,
            "_view_module_version": "1.2.0",
            "bar_color": null,
            "_model_module": "@jupyter-widgets/controls"
          }
        },
        "c1f0e47b6b8d47de8ce338cb26ad76f0": {
          "model_module": "@jupyter-widgets/base",
          "model_name": "LayoutModel",
          "state": {
            "_view_name": "LayoutView",
            "grid_template_rows": null,
            "right": null,
            "justify_content": null,
            "_view_module": "@jupyter-widgets/base",
            "overflow": null,
            "_model_module_version": "1.2.0",
            "_view_count": null,
            "flex_flow": null,
            "width": null,
            "min_width": null,
            "border": null,
            "align_items": null,
            "bottom": null,
            "_model_module": "@jupyter-widgets/base",
            "top": null,
            "grid_column": null,
            "overflow_y": null,
            "overflow_x": null,
            "grid_auto_flow": null,
            "grid_area": null,
            "grid_template_columns": null,
            "flex": null,
            "_model_name": "LayoutModel",
            "justify_items": null,
            "grid_row": null,
            "max_height": null,
            "align_content": null,
            "visibility": null,
            "align_self": null,
            "height": null,
            "min_height": null,
            "padding": null,
            "grid_auto_rows": null,
            "grid_gap": null,
            "max_width": null,
            "order": null,
            "_view_module_version": "1.2.0",
            "grid_template_areas": null,
            "object_position": null,
            "object_fit": null,
            "grid_auto_columns": null,
            "margin": null,
            "display": null,
            "left": null
          }
        },
        "9f484cb3a34c4ee0850821ff8fc8b749": {
          "model_module": "@jupyter-widgets/controls",
          "model_name": "DescriptionStyleModel",
          "state": {
            "_view_name": "StyleView",
            "_model_name": "DescriptionStyleModel",
            "description_width": "",
            "_view_module": "@jupyter-widgets/base",
            "_model_module_version": "1.5.0",
            "_view_count": null,
            "_view_module_version": "1.2.0",
            "_model_module": "@jupyter-widgets/controls"
          }
        },
        "a7db6d4aba07470899f46fc09f02d608": {
          "model_module": "@jupyter-widgets/base",
          "model_name": "LayoutModel",
          "state": {
            "_view_name": "LayoutView",
            "grid_template_rows": null,
            "right": null,
            "justify_content": null,
            "_view_module": "@jupyter-widgets/base",
            "overflow": null,
            "_model_module_version": "1.2.0",
            "_view_count": null,
            "flex_flow": null,
            "width": null,
            "min_width": null,
            "border": null,
            "align_items": null,
            "bottom": null,
            "_model_module": "@jupyter-widgets/base",
            "top": null,
            "grid_column": null,
            "overflow_y": null,
            "overflow_x": null,
            "grid_auto_flow": null,
            "grid_area": null,
            "grid_template_columns": null,
            "flex": null,
            "_model_name": "LayoutModel",
            "justify_items": null,
            "grid_row": null,
            "max_height": null,
            "align_content": null,
            "visibility": null,
            "align_self": null,
            "height": null,
            "min_height": null,
            "padding": null,
            "grid_auto_rows": null,
            "grid_gap": null,
            "max_width": null,
            "order": null,
            "_view_module_version": "1.2.0",
            "grid_template_areas": null,
            "object_position": null,
            "object_fit": null,
            "grid_auto_columns": null,
            "margin": null,
            "display": null,
            "left": null
          }
        }
      }
    }
  },
  "cells": [
    {
      "cell_type": "markdown",
      "metadata": {
        "id": "t90ctpFKHbx8",
        "colab_type": "text"
      },
      "source": [
        "## Setting"
      ]
    },
    {
      "cell_type": "code",
      "metadata": {
        "id": "NgjpgHZ8HaXa",
        "colab_type": "code",
        "colab": {
          "base_uri": "https://localhost:8080/",
          "height": 124
        },
        "outputId": "1a8dd6ad-2cf5-4f65-9f71-0be73c9e08f3"
      },
      "source": [
        "# drive mount & setting for TaPR package\n",
        "from google.colab import drive\n",
        "drive.mount('/content/drive')"
      ],
      "execution_count": 1,
      "outputs": [
        {
          "output_type": "stream",
          "text": [
            "Go to this URL in a browser: https://accounts.google.com/o/oauth2/auth?client_id=947318989803-6bn6qk8qdgf4n4g3pfee6491hc0brc4i.apps.googleusercontent.com&redirect_uri=urn%3aietf%3awg%3aoauth%3a2.0%3aoob&scope=email%20https%3a%2f%2fwww.googleapis.com%2fauth%2fdocs.test%20https%3a%2f%2fwww.googleapis.com%2fauth%2fdrive%20https%3a%2f%2fwww.googleapis.com%2fauth%2fdrive.photos.readonly%20https%3a%2f%2fwww.googleapis.com%2fauth%2fpeopleapi.readonly&response_type=code\n",
            "\n",
            "Enter your authorization code:\n",
            "··········\n",
            "Mounted at /content/drive\n"
          ],
          "name": "stdout"
        }
      ]
    },
    {
      "cell_type": "code",
      "metadata": {
        "id": "huNEIsDGHlfQ",
        "colab_type": "code",
        "colab": {
          "base_uri": "https://localhost:8080/",
          "height": 69
        },
        "outputId": "e2736f51-32cd-47c6-e1f0-2407bc858e31"
      },
      "source": [
        "!pip install '/content/drive/My Drive/data/eTaPR-1.12-py3-none-any.whl'"
      ],
      "execution_count": 2,
      "outputs": [
        {
          "output_type": "stream",
          "text": [
            "Processing ./drive/My Drive/data/eTaPR-1.12-py3-none-any.whl\n",
            "Installing collected packages: eTaPR\n",
            "Successfully installed eTaPR-1.12\n"
          ],
          "name": "stdout"
        }
      ]
    },
    {
      "cell_type": "code",
      "metadata": {
        "id": "BPFfwuyYHtJ8",
        "colab_type": "code",
        "colab": {}
      },
      "source": [
        "import sys\n",
        "\n",
        "from pathlib import Path\n",
        "from datetime import timedelta\n",
        "\n",
        "import dateutil\n",
        "import numpy as np\n",
        "import matplotlib.pyplot as plt\n",
        "import pandas as pd\n",
        "import torch\n",
        "\n",
        "from torch.utils.data import Dataset, DataLoader\n",
        "from tqdm.notebook import trange\n",
        "from TaPR_pkg import etapr\n",
        "\n",
        "HOME = '/content/drive/My Drive'"
      ],
      "execution_count": 3,
      "outputs": []
    },
    {
      "cell_type": "code",
      "metadata": {
        "id": "YN-ylK-fIHlC",
        "colab_type": "code",
        "colab": {}
      },
      "source": [
        "# functions\n",
        "def dataframe_from_csv(target):\n",
        "    return pd.read_csv(target).rename(columns=lambda x: x.strip())\n",
        "\n",
        "def dataframe_from_csvs(targets):\n",
        "    return pd.concat([dataframe_from_csv(x) for x in targets])"
      ],
      "execution_count": 4,
      "outputs": []
    },
    {
      "cell_type": "code",
      "metadata": {
        "id": "iSk1dK1YHxVe",
        "colab_type": "code",
        "colab": {
          "base_uri": "https://localhost:8080/",
          "height": 156
        },
        "outputId": "128497b4-53c5-4b84-b40d-cba31b0fe292"
      },
      "source": [
        "# data loading\n",
        "TRAIN_DATASET = sorted([x for x in Path(HOME +\"/data/training/\").glob(\"*.csv\")])\n",
        "TEST_DATASET = sorted([x for x in Path(HOME + \"/data/testing/\").glob(\"*.csv\")])\n",
        "VALIDATION_DATASET = sorted([x for x in Path(HOME + \"/data/validation/\").glob(\"*.csv\")])\n",
        "\n",
        "TRAIN_DATASET, TEST_DATASET, VALIDATION_DATASET"
      ],
      "execution_count": 9,
      "outputs": [
        {
          "output_type": "execute_result",
          "data": {
            "text/plain": [
              "([PosixPath('/content/drive/My Drive/data/training/train1.csv'),\n",
              "  PosixPath('/content/drive/My Drive/data/training/train2.csv'),\n",
              "  PosixPath('/content/drive/My Drive/data/training/train3.csv')],\n",
              " [PosixPath('/content/drive/My Drive/data/testing/test1.csv'),\n",
              "  PosixPath('/content/drive/My Drive/data/testing/test2.csv'),\n",
              "  PosixPath('/content/drive/My Drive/data/testing/test3.csv'),\n",
              "  PosixPath('/content/drive/My Drive/data/testing/test4.csv')],\n",
              " [PosixPath('/content/drive/My Drive/data/validation/validation.csv')])"
            ]
          },
          "metadata": {
            "tags": []
          },
          "execution_count": 9
        }
      ]
    },
    {
      "cell_type": "code",
      "metadata": {
        "id": "cBua2b-lIBag",
        "colab_type": "code",
        "colab": {}
      },
      "source": [
        "# data type to pandas DataFrame\n",
        "TRAIN_DATASET = dataframe_from_csvs(TRAIN_DATASET)\n",
        "TEST_DATASET = dataframe_from_csvs(TEST_DATASET)\n",
        "VALIDATION_DATASET = dataframe_from_csvs(VALIDATION_DATASET)"
      ],
      "execution_count": 10,
      "outputs": []
    },
    {
      "cell_type": "code",
      "metadata": {
        "id": "CoFFpYSiIh31",
        "colab_type": "code",
        "colab": {}
      },
      "source": [
        "# normalizing\n",
        "STATE = TRAIN_DATASET.columns.drop(['time'])\n",
        "TAG_MIN, TAG_MAX = TRAIN_DATASET[STATE].min(), TRAIN_DATASET[STATE].max()\n",
        "\n",
        "def normalize(df):\n",
        "    ndf = df.copy()\n",
        "    for c in df.columns:\n",
        "        if TAG_MIN[c] == TAG_MAX[c]:\n",
        "            ndf[c] = df[c] - TAG_MIN[c]\n",
        "        else:\n",
        "            ndf[c] = (df[c] - TAG_MIN[c]) / (TAG_MAX[c] - TAG_MIN[c])\n",
        "    return ndf\n",
        "\n",
        "# time = TRAIN_DATASET['time']\n",
        "train_df = normalize(TRAIN_DATASET[STATE]).ewm(alpha = 0.8).mean()\n",
        "val_df = normalize(VALIDATION_DATASET[STATE]).ewm(alpha = 0.8).mean()\n",
        "test_df = normalize(TEST_DATASET[STATE]).ewm(alpha = 0.8).mean()"
      ],
      "execution_count": 11,
      "outputs": []
    },
    {
      "cell_type": "code",
      "metadata": {
        "id": "2eB4GMECprJ2",
        "colab_type": "code",
        "colab": {
          "base_uri": "https://localhost:8080/",
          "height": 69
        },
        "outputId": "80db296d-6402-49ce-978f-d7b05524460e"
      },
      "source": [
        "def boundary_check(df):\n",
        "  '''\n",
        "  check dataframe\n",
        "  (F, F, F) for training data set\n",
        "  third should be F for others, too.  \n",
        "  '''\n",
        "  x = np.array(df, dtype = np.float32)\n",
        "  return np.any(x > 1.0), np.any(x < 0), np.any(np.isnan(x))\n",
        "\n",
        "display(boundary_check(train_df))\n",
        "display(boundary_check(val_df))\n",
        "display(boundary_check(test_df))"
      ],
      "execution_count": 12,
      "outputs": [
        {
          "output_type": "display_data",
          "data": {
            "text/plain": [
              "(False, False, False)"
            ]
          },
          "metadata": {
            "tags": []
          }
        },
        {
          "output_type": "display_data",
          "data": {
            "text/plain": [
              "(True, True, False)"
            ]
          },
          "metadata": {
            "tags": []
          }
        },
        {
          "output_type": "display_data",
          "data": {
            "text/plain": [
              "(True, True, False)"
            ]
          },
          "metadata": {
            "tags": []
          }
        }
      ]
    },
    {
      "cell_type": "markdown",
      "metadata": {
        "id": "lSn8E8LeQQpv",
        "colab_type": "text"
      },
      "source": [
        "## Make Datatset"
      ]
    },
    {
      "cell_type": "code",
      "metadata": {
        "id": "5ebXBLDyP9fW",
        "colab_type": "code",
        "colab": {}
      },
      "source": [
        "WINDOW_SIZE = 90\n",
        "WINDOW_GIVEN = 90 # autoencoder\n",
        "#WINDOW_GIVEN = 89\n",
        "\n",
        "\n",
        "class HaiDataset(Dataset):\n",
        "    def __init__(self, timestamps, df, stride=1, attacks=None, auto = False):\n",
        "        self.ts = np.array(timestamps)\n",
        "        self.tag_values = np.array(df, dtype=np.float32)\n",
        "        self.valid_idxs = []\n",
        "        self.auto = auto\n",
        "        for L in trange(len(self.ts) - WINDOW_SIZE + 1):\n",
        "            R = L + WINDOW_SIZE - 1\n",
        "            if dateutil.parser.parse(self.ts[R]) - dateutil.parser.parse(\n",
        "                self.ts[L]\n",
        "            ) == timedelta(seconds=WINDOW_SIZE - 1):\n",
        "                self.valid_idxs.append(L)\n",
        "        self.valid_idxs = np.array(self.valid_idxs, dtype=np.int32)[::stride]\n",
        "        self.n_idxs = len(self.valid_idxs)\n",
        "        print(f\"# of valid windows: {self.n_idxs}\")\n",
        "        if attacks is not None:\n",
        "            self.attacks = np.array(attacks, dtype=np.float32)\n",
        "            self.with_attack = True\n",
        "        else:\n",
        "            self.with_attack = False\n",
        "\n",
        "    def __len__(self):\n",
        "        return self.n_idxs\n",
        "\n",
        "    def __getitem__(self, idx):\n",
        "        i = self.valid_idxs[idx]\n",
        "        last = i + WINDOW_SIZE - 1\n",
        "        item = {\"attack\": self.attacks[last]} if self.with_attack else {}\n",
        "        item[\"ts\"] = self.ts[i + WINDOW_SIZE - 1]\n",
        "        item[\"given\"] = torch.from_numpy(self.tag_values[i : i + WINDOW_GIVEN])\n",
        "        if self.auto:\n",
        "          item[\"answer\"] = torch.from_numpy(self.tag_values[i : i + WINDOW_GIVEN])\n",
        "        else:\n",
        "          item[\"answer\"] = torch.from_numpy(self.tag_values[last])\n",
        "        return item"
      ],
      "execution_count": 40,
      "outputs": []
    },
    {
      "cell_type": "code",
      "metadata": {
        "id": "Mw27C_69RZT1",
        "colab_type": "code",
        "colab": {
          "base_uri": "https://localhost:8080/",
          "height": 217,
          "referenced_widgets": [
            "a5f9053c28f24de395b867bc53dab451",
            "a0f178433d694fa3990254bef9399f44",
            "8e881e7a4f064c2da301b11ae959c085",
            "d3a340bc939d4a65a0fff00c3bd44889",
            "410f7996374d402eacd40298fa2997f0",
            "ccacc3cd9e594441b9d36d7c6c8d80d6",
            "9a390d6187aa4f9992f0ae206898ec47",
            "e74f117ede844689b53efbbc815370f0",
            "5574d6651cc3455ab19411b68283df31",
            "aae1513eec8343109cd086fbe816ace8",
            "5d7d8838853d4082984f306b6bbf0fc5",
            "e62ebcd48d274a4c80819d75ad0d5a0f",
            "b47c1af4d7404a4f9d4ca05691437839",
            "28511ebec6cc4e7b9477dfda02f640b0",
            "87c2145e3bc448738c0fdba7413ff596",
            "361823d24043441dacbd59b00a88acee",
            "d452ead9b41e47d0bc02fadb6e7041ed",
            "e013d43d3d0e4eedbf4a8d95456f7fcb",
            "d0b7bc59b7e846d49caa395eb75aeceb",
            "6fcd871b500f4068ac7cd06fd416d52a",
            "2a30c0c7e22e439b89bb37c828a368a4",
            "98ecd0f9a87c491985075c05ce865099",
            "18421c5029a646c3b95c68c5714315ac",
            "3a8bfb6d5e914b5483f00d7db35e5aa9"
          ]
        },
        "outputId": "9868705e-1816-4d1b-8189-08c883ff3f59"
      },
      "source": [
        "# lstm, gru\n",
        "# HAI_TRAIN = HaiDataset(TRAIN_DATASET['time'], train_df, stride = 10)\n",
        "# HAI_VAL = HaiDataset(VALIDATOIN_DATASET['time'], val_df, attacks = VALIDATOIN_DATASET['attack'])\n",
        "# HAI_TEST = HaiDataset(TEST_DATASET['time'], test_df, stride = 1)\n",
        "\n",
        "# autoencoder\n",
        "HAI_TRAIN = HaiDataset(TRAIN_DATASET['time'], train_df, stride = 10, auto = True)\n",
        "HAI_VAL = HaiDataset(VALIDATION_DATASET['time'], val_df, attacks = VALIDATION_DATASET['attack'], auto = True)\n",
        "HAI_TEST = HaiDataset(TEST_DATASET['time'], test_df, stride = 1, auto = True)"
      ],
      "execution_count": 18,
      "outputs": [
        {
          "output_type": "display_data",
          "data": {
            "application/vnd.jupyter.widget-view+json": {
              "model_id": "a5f9053c28f24de395b867bc53dab451",
              "version_minor": 0,
              "version_major": 2
            },
            "text/plain": [
              "HBox(children=(FloatProgress(value=0.0, max=921514.0), HTML(value='')))"
            ]
          },
          "metadata": {
            "tags": []
          }
        },
        {
          "output_type": "stream",
          "text": [
            "\n",
            "# of valid windows: 92134\n"
          ],
          "name": "stdout"
        },
        {
          "output_type": "display_data",
          "data": {
            "application/vnd.jupyter.widget-view+json": {
              "model_id": "5574d6651cc3455ab19411b68283df31",
              "version_minor": 0,
              "version_major": 2
            },
            "text/plain": [
              "HBox(children=(FloatProgress(value=0.0, max=43112.0), HTML(value='')))"
            ]
          },
          "metadata": {
            "tags": []
          }
        },
        {
          "output_type": "stream",
          "text": [
            "\n",
            "# of valid windows: 43112\n"
          ],
          "name": "stdout"
        },
        {
          "output_type": "display_data",
          "data": {
            "application/vnd.jupyter.widget-view+json": {
              "model_id": "d452ead9b41e47d0bc02fadb6e7041ed",
              "version_minor": 0,
              "version_major": 2
            },
            "text/plain": [
              "HBox(children=(FloatProgress(value=0.0, max=358715.0), HTML(value='')))"
            ]
          },
          "metadata": {
            "tags": []
          }
        },
        {
          "output_type": "stream",
          "text": [
            "\n",
            "# of valid windows: 358448\n"
          ],
          "name": "stdout"
        }
      ]
    },
    {
      "cell_type": "code",
      "metadata": {
        "id": "6szPzaX7G1Wn",
        "colab_type": "code",
        "colab": {
          "base_uri": "https://localhost:8080/",
          "height": 820
        },
        "outputId": "bc110a6c-539d-47a0-8495-3d43b66ad962"
      },
      "source": [
        "display(HAI_TRAIN[0])\n",
        "display(HAI_VAL[0])\n",
        "display(HAI_TEST[0])"
      ],
      "execution_count": 19,
      "outputs": [
        {
          "output_type": "display_data",
          "data": {
            "text/plain": [
              "{'answer': tensor([[0.3790, 0.0000, 0.0000,  ..., 0.2650, 1.0000, 0.5673],\n",
              "         [0.3785, 0.0000, 0.0000,  ..., 0.2529, 1.0000, 0.5167],\n",
              "         [0.3785, 0.0000, 0.0000,  ..., 0.2546, 1.0000, 0.4750],\n",
              "         ...,\n",
              "         [0.3730, 0.0000, 0.0000,  ..., 0.4410, 1.0000, 0.4949],\n",
              "         [0.3738, 0.0000, 0.0000,  ..., 0.4408, 1.0000, 0.5386],\n",
              "         [0.3740, 0.0000, 0.0000,  ..., 0.4519, 1.0000, 0.5452]]),\n",
              " 'given': tensor([[0.3790, 0.0000, 0.0000,  ..., 0.2650, 1.0000, 0.5673],\n",
              "         [0.3785, 0.0000, 0.0000,  ..., 0.2529, 1.0000, 0.5167],\n",
              "         [0.3785, 0.0000, 0.0000,  ..., 0.2546, 1.0000, 0.4750],\n",
              "         ...,\n",
              "         [0.3730, 0.0000, 0.0000,  ..., 0.4410, 1.0000, 0.4949],\n",
              "         [0.3738, 0.0000, 0.0000,  ..., 0.4408, 1.0000, 0.5386],\n",
              "         [0.3740, 0.0000, 0.0000,  ..., 0.4519, 1.0000, 0.5452]]),\n",
              " 'ts': '2020-07-11 00:01:29'}"
            ]
          },
          "metadata": {
            "tags": []
          }
        },
        {
          "output_type": "display_data",
          "data": {
            "text/plain": [
              "{'answer': tensor([[0.4516, 0.0000, 0.0000,  ..., 0.5798, 0.5271, 0.4014],\n",
              "         [0.4524, 0.0000, 0.0000,  ..., 0.5799, 0.5271, 0.3364],\n",
              "         [0.4521, 0.0000, 0.0000,  ..., 0.5902, 0.5271, 0.3657],\n",
              "         ...,\n",
              "         [0.5263, 0.0000, 0.0000,  ..., 0.3205, 0.5271, 0.3747],\n",
              "         [0.5258, 0.0000, 0.0000,  ..., 0.3148, 0.5271, 0.4240],\n",
              "         [0.5253, 0.0000, 0.0000,  ..., 0.3101, 0.5271, 0.5103]]),\n",
              " 'attack': 0.0,\n",
              " 'given': tensor([[0.4516, 0.0000, 0.0000,  ..., 0.5798, 0.5271, 0.4014],\n",
              "         [0.4524, 0.0000, 0.0000,  ..., 0.5799, 0.5271, 0.3364],\n",
              "         [0.4521, 0.0000, 0.0000,  ..., 0.5902, 0.5271, 0.3657],\n",
              "         ...,\n",
              "         [0.5263, 0.0000, 0.0000,  ..., 0.3205, 0.5271, 0.3747],\n",
              "         [0.5258, 0.0000, 0.0000,  ..., 0.3148, 0.5271, 0.4240],\n",
              "         [0.5253, 0.0000, 0.0000,  ..., 0.3101, 0.5271, 0.5103]]),\n",
              " 'ts': '2020-07-07 15:01:29'}"
            ]
          },
          "metadata": {
            "tags": []
          }
        },
        {
          "output_type": "display_data",
          "data": {
            "text/plain": [
              "{'answer': tensor([[0.2737, 0.0000, 0.0000,  ..., 0.2004, 0.2616, 0.7147],\n",
              "         [0.2737, 0.0000, 0.0000,  ..., 0.1987, 0.2616, 0.6555],\n",
              "         [0.2729, 0.0000, 0.0000,  ..., 0.1971, 0.2616, 0.6459],\n",
              "         ...,\n",
              "         [0.2491, 0.0000, 0.0000,  ..., 0.5510, 0.2616, 0.4836],\n",
              "         [0.2490, 0.0000, 0.0000,  ..., 0.5529, 0.2616, 0.5198],\n",
              "         [0.2502, 0.0000, 0.0000,  ..., 0.5529, 0.2616, 0.5907]]),\n",
              " 'given': tensor([[0.2737, 0.0000, 0.0000,  ..., 0.2004, 0.2616, 0.7147],\n",
              "         [0.2737, 0.0000, 0.0000,  ..., 0.1987, 0.2616, 0.6555],\n",
              "         [0.2729, 0.0000, 0.0000,  ..., 0.1971, 0.2616, 0.6459],\n",
              "         ...,\n",
              "         [0.2491, 0.0000, 0.0000,  ..., 0.5510, 0.2616, 0.4836],\n",
              "         [0.2490, 0.0000, 0.0000,  ..., 0.5529, 0.2616, 0.5198],\n",
              "         [0.2502, 0.0000, 0.0000,  ..., 0.5529, 0.2616, 0.5907]]),\n",
              " 'ts': '2020-07-09 15:01:29'}"
            ]
          },
          "metadata": {
            "tags": []
          }
        }
      ]
    },
    {
      "cell_type": "markdown",
      "metadata": {
        "id": "_TnS0seiUoSc",
        "colab_type": "text"
      },
      "source": [
        "## Model"
      ]
    },
    {
      "cell_type": "code",
      "metadata": {
        "id": "0dZICbQCSGd3",
        "colab_type": "code",
        "colab": {}
      },
      "source": [
        "#constants\n",
        "N_HIDDENS = 100\n",
        "N_LAYERS = 3\n",
        "BATCH_SIZE = 512"
      ],
      "execution_count": 20,
      "outputs": []
    },
    {
      "cell_type": "markdown",
      "metadata": {
        "id": "hSNiUdgPYOmI",
        "colab_type": "text"
      },
      "source": [
        "### stacked RNN"
      ]
    },
    {
      "cell_type": "code",
      "metadata": {
        "id": "ce4UUpclU051",
        "colab_type": "code",
        "colab": {}
      },
      "source": [
        "#definitions of models\n",
        "\n",
        "class StackedGRU(torch.nn.Module):\n",
        "    def __init__(self, n_tags):\n",
        "        super().__init__()\n",
        "        self.rnn = torch.nn.GRU(\n",
        "            input_size=n_tags,\n",
        "            hidden_size=N_HIDDENS,\n",
        "            num_layers=N_LAYERS,\n",
        "            bidirectional=True,\n",
        "            dropout=0,\n",
        "        )\n",
        "        self.fc = torch.nn.Linear(N_HIDDENS * 2, n_tags)\n",
        "\n",
        "    def forward(self, x):\n",
        "        x = x.transpose(0, 1)  # (batch, seq, params) -> (seq, batch, params)\n",
        "        self.rnn.flatten_parameters()\n",
        "        outs, _ = self.rnn(x)\n",
        "        out = self.fc(outs[-1])\n",
        "        return x[0] + out\n",
        "\n",
        "class StackedLSTM(torch.nn.Module):\n",
        "  def __init__(self, n_tags):\n",
        "    super().__init__()\n",
        "    self.lstm = torch.nn.LSTM(\n",
        "        input_size = n_tags,\n",
        "        hidden_size = N_HIDDENS,\n",
        "        num_layers = N_LAYERS,\n",
        "        bidirectional = True,\n",
        "        dropout = 0\n",
        "    )\n",
        "    self.fc = torch.nn.Linear(N_HIDDENS * 2, n_tags)\n",
        "    self.activation = torch.nn.ReLU() #added\n",
        "\n",
        "  def forward(self, x):\n",
        "    x = x.transpose(0, 1)\n",
        "    self.lstm.flatten_parameters()\n",
        "    outs, _ = self.lstm(x)\n",
        "    out = self.fc(outs[-1])\n",
        "    return self.activation(x[0] + out) #skip connection"
      ],
      "execution_count": 21,
      "outputs": []
    },
    {
      "cell_type": "markdown",
      "metadata": {
        "id": "qNICEMlUYSLy",
        "colab_type": "text"
      },
      "source": [
        "### AutoEncoder"
      ]
    },
    {
      "cell_type": "code",
      "metadata": {
        "id": "6ShW1YwDYTSP",
        "colab_type": "code",
        "colab": {}
      },
      "source": [
        "class TimeDistributed(torch.nn.Module):\n",
        "  def __init__(self, module, batch_first = False):\n",
        "    super().__init__()\n",
        "    self.module = module\n",
        "    self.batch_first = batch_first # shape of x\n",
        "\n",
        "  def forward(self, x):\n",
        "    if len(x.size()) <= 2:\n",
        "      return self.module(x)\n",
        "    y = self.module(x.contiguous().view(-1, x.size(-1)))\n",
        "    if self.batch_first:\n",
        "      y = y.contiguous().view(x.size(0), -1, y.size(-1))\n",
        "    else:\n",
        "      y = y.contiguous().view(-1, x.size(1), y.size(-1))\n",
        "    return y #shape : (batch, seq, features)\n",
        "\n",
        "class Encoder(torch.nn.Module):\n",
        "  def __init__(self, seq_len, n_features, embedding_dim = 64):\n",
        "    super().__init__()\n",
        "    self.embedding_dim = embedding_dim\n",
        "    self.seq_len = seq_len\n",
        "    self.n_features = n_features\n",
        "    self.rnn = torch.nn.LSTM(\n",
        "        input_size=self.n_features,\n",
        "        hidden_size=self.embedding_dim //2,\n",
        "        num_layers=4,\n",
        "        bidirectional=True,\n",
        "        batch_first = True\n",
        "    )\n",
        "\n",
        "  def forward(self, x):\n",
        "    x, _ = self.rnn(x)\n",
        "    return x[:, -1, :] # get last sample -> shape of (seq len, 1, embedding_dim)\n",
        "\n",
        "class Decoder(torch.nn.Module):\n",
        "  def __init__(self, seq_len, n_features, embedding_dim):\n",
        "    super().__init__()\n",
        "    self.embedding_dim = embedding_dim\n",
        "    self.seq_len = seq_len\n",
        "    self.n_features = n_features\n",
        "    self.rnn = torch.nn.LSTM(\n",
        "        input_size = self.embedding_dim,\n",
        "        hidden_size = self.embedding_dim//2,\n",
        "        num_layers = 4,\n",
        "        bidirectional = True,\n",
        "        batch_first = True\n",
        "    )\n",
        "    self.output_layer = torch.nn.Linear(self.embedding_dim, self.n_features)\n",
        "    self.timedist = TimeDistributed(self.output_layer)\n",
        "\n",
        "  def forward(self, x):\n",
        "    x = x.reshape(-1, 1, self.embedding_dim).repeat(1, self.seq_len, 1)\n",
        "    x, _ = self.rnn(x)\n",
        "    return self.timedist(x)\n",
        "\n",
        "class RecurrentAutoencoder(torch.nn.Module): # embedding dim should be even\n",
        "  def __init__(self, seq_len, n_features, embedding_dim):\n",
        "    super().__init__()\n",
        "    self.encoder = Encoder(seq_len, n_features, embedding_dim)\n",
        "    self.decoder = Decoder(seq_len, n_features, embedding_dim)\n",
        "  \n",
        "  def forward(self, x):\n",
        "    x = self.encoder(x)\n",
        "    x = self.decoder(x)\n",
        "    return x"
      ],
      "execution_count": 36,
      "outputs": []
    },
    {
      "cell_type": "markdown",
      "metadata": {
        "id": "nSI-I15fxGeu",
        "colab_type": "text"
      },
      "source": [
        "## Train !"
      ]
    },
    {
      "cell_type": "code",
      "metadata": {
        "id": "-mdnba3kxF-t",
        "colab_type": "code",
        "colab": {
          "base_uri": "https://localhost:8080/",
          "height": 226
        },
        "outputId": "bcdafcd0-ff14-48d7-ddd7-559d8fd7def9"
      },
      "source": [
        "MODEL = RecurrentAutoencoder(seq_len = 90, n_features = 79, embedding_dim = 100)\n",
        "# MODEL = StackedGRU(n_tags = 79)\n",
        "# MODEL = StackedLSTM(n_tags = 79)\n",
        "\n",
        "MODEL.cuda()"
      ],
      "execution_count": 37,
      "outputs": [
        {
          "output_type": "execute_result",
          "data": {
            "text/plain": [
              "RecurrentAutoencoder(\n",
              "  (encoder): Encoder(\n",
              "    (rnn): LSTM(79, 50, num_layers=4, batch_first=True, bidirectional=True)\n",
              "  )\n",
              "  (decoder): Decoder(\n",
              "    (rnn): LSTM(100, 50, num_layers=4, batch_first=True, bidirectional=True)\n",
              "    (output_layer): Linear(in_features=100, out_features=79, bias=True)\n",
              "    (timedist): TimeDistributed(\n",
              "      (module): Linear(in_features=100, out_features=79, bias=True)\n",
              "    )\n",
              "  )\n",
              ")"
            ]
          },
          "metadata": {
            "tags": []
          },
          "execution_count": 37
        }
      ]
    },
    {
      "cell_type": "code",
      "metadata": {
        "id": "-bV_gxBXxvFv",
        "colab_type": "code",
        "colab": {}
      },
      "source": [
        "def train(dataset, model, batch_size, n_epochs):\n",
        "    dataloader = DataLoader(dataset, batch_size=batch_size, shuffle=True)\n",
        "    optimizer = torch.optim.AdamW(model.parameters())\n",
        "    loss_fn = torch.nn.MSELoss()\n",
        "    epochs = trange(n_epochs, desc=\"training\")\n",
        "    best = {\"loss\": sys.float_info.max}\n",
        "    loss_history = []\n",
        "    for e in epochs:\n",
        "        epoch_loss = 0\n",
        "        for batch in dataloader:\n",
        "            optimizer.zero_grad()\n",
        "            given = batch[\"given\"].cuda()\n",
        "            guess = model(given)\n",
        "            answer = batch[\"answer\"].cuda()\n",
        "            loss = loss_fn(answer, guess)\n",
        "            loss.backward()\n",
        "            epoch_loss += loss.item()\n",
        "            optimizer.step()\n",
        "        loss_history.append(epoch_loss)\n",
        "        epochs.set_postfix_str(f\"loss: {epoch_loss:.6f}\")\n",
        "        if epoch_loss < best[\"loss\"]:\n",
        "            best[\"state\"] = model.state_dict()\n",
        "            best[\"loss\"] = epoch_loss\n",
        "            best[\"epoch\"] = e + 1\n",
        "    return best, loss_history"
      ],
      "execution_count": 38,
      "outputs": []
    },
    {
      "cell_type": "code",
      "metadata": {
        "id": "NGoVubFLx_Hj",
        "colab_type": "code",
        "colab": {
          "base_uri": "https://localhost:8080/",
          "height": 541,
          "referenced_widgets": [
            "5045028132e547dc86968621fc359bb4",
            "f256b3f0f00a4adab7c947d34ad4281a",
            "763fa5c2fa7d4a0d888f87b29c1b8895",
            "b3ff27a6cd324b20a9b72fc9b63360cf",
            "e9bd19385e8f4a92a42750d6e5f64a03",
            "c1f0e47b6b8d47de8ce338cb26ad76f0",
            "9f484cb3a34c4ee0850821ff8fc8b749",
            "a7db6d4aba07470899f46fc09f02d608"
          ]
        },
        "outputId": "47f6be4a-c7be-4e78-8e45-120768d1696f"
      },
      "source": [
        "%%time\n",
        "BATCH_SIZE = 512\n",
        "MODEL.train()\n",
        "BEST_MODEL, LOSS_HISTORY = train(HAI_TRAIN, MODEL, BATCH_SIZE, 50) # change : epoch"
      ],
      "execution_count": 39,
      "outputs": [
        {
          "output_type": "display_data",
          "data": {
            "application/vnd.jupyter.widget-view+json": {
              "model_id": "5045028132e547dc86968621fc359bb4",
              "version_minor": 0,
              "version_major": 2
            },
            "text/plain": [
              "HBox(children=(FloatProgress(value=0.0, description='training', max=50.0, style=ProgressStyle(description_widt…"
            ]
          },
          "metadata": {
            "tags": []
          }
        },
        {
          "output_type": "stream",
          "text": [
            "/usr/local/lib/python3.6/dist-packages/torch/nn/modules/loss.py:445: UserWarning: Using a target size (torch.Size([512, 90, 79])) that is different to the input size (torch.Size([512, 89, 79])). This will likely lead to incorrect results due to broadcasting. Please ensure they have the same size.\n",
            "  return F.mse_loss(input, target, reduction=self.reduction)\n"
          ],
          "name": "stderr"
        },
        {
          "output_type": "error",
          "ename": "RuntimeError",
          "evalue": "ignored",
          "traceback": [
            "\u001b[0;31m---------------------------------------------------------------------------\u001b[0m",
            "\u001b[0;31mRuntimeError\u001b[0m                              Traceback (most recent call last)",
            "\u001b[0;32m<ipython-input-39-30e5b5f83b22>\u001b[0m in \u001b[0;36m<module>\u001b[0;34m()\u001b[0m\n\u001b[0;32m----> 1\u001b[0;31m \u001b[0mget_ipython\u001b[0m\u001b[0;34m(\u001b[0m\u001b[0;34m)\u001b[0m\u001b[0;34m.\u001b[0m\u001b[0mrun_cell_magic\u001b[0m\u001b[0;34m(\u001b[0m\u001b[0;34m'time'\u001b[0m\u001b[0;34m,\u001b[0m \u001b[0;34m''\u001b[0m\u001b[0;34m,\u001b[0m \u001b[0;34m'BATCH_SIZE = 512\\nMODEL.train()\\nBEST_MODEL, LOSS_HISTORY = train(HAI_TRAIN, MODEL, BATCH_SIZE, 50) # change : epoch'\u001b[0m\u001b[0;34m)\u001b[0m\u001b[0;34m\u001b[0m\u001b[0;34m\u001b[0m\u001b[0m\n\u001b[0m",
            "\u001b[0;32m/usr/local/lib/python3.6/dist-packages/IPython/core/interactiveshell.py\u001b[0m in \u001b[0;36mrun_cell_magic\u001b[0;34m(self, magic_name, line, cell)\u001b[0m\n\u001b[1;32m   2115\u001b[0m             \u001b[0mmagic_arg_s\u001b[0m \u001b[0;34m=\u001b[0m \u001b[0mself\u001b[0m\u001b[0;34m.\u001b[0m\u001b[0mvar_expand\u001b[0m\u001b[0;34m(\u001b[0m\u001b[0mline\u001b[0m\u001b[0;34m,\u001b[0m \u001b[0mstack_depth\u001b[0m\u001b[0;34m)\u001b[0m\u001b[0;34m\u001b[0m\u001b[0;34m\u001b[0m\u001b[0m\n\u001b[1;32m   2116\u001b[0m             \u001b[0;32mwith\u001b[0m \u001b[0mself\u001b[0m\u001b[0;34m.\u001b[0m\u001b[0mbuiltin_trap\u001b[0m\u001b[0;34m:\u001b[0m\u001b[0;34m\u001b[0m\u001b[0;34m\u001b[0m\u001b[0m\n\u001b[0;32m-> 2117\u001b[0;31m                 \u001b[0mresult\u001b[0m \u001b[0;34m=\u001b[0m \u001b[0mfn\u001b[0m\u001b[0;34m(\u001b[0m\u001b[0mmagic_arg_s\u001b[0m\u001b[0;34m,\u001b[0m \u001b[0mcell\u001b[0m\u001b[0;34m)\u001b[0m\u001b[0;34m\u001b[0m\u001b[0;34m\u001b[0m\u001b[0m\n\u001b[0m\u001b[1;32m   2118\u001b[0m             \u001b[0;32mreturn\u001b[0m \u001b[0mresult\u001b[0m\u001b[0;34m\u001b[0m\u001b[0;34m\u001b[0m\u001b[0m\n\u001b[1;32m   2119\u001b[0m \u001b[0;34m\u001b[0m\u001b[0m\n",
            "\u001b[0;32m<decorator-gen-60>\u001b[0m in \u001b[0;36mtime\u001b[0;34m(self, line, cell, local_ns)\u001b[0m\n",
            "\u001b[0;32m/usr/local/lib/python3.6/dist-packages/IPython/core/magic.py\u001b[0m in \u001b[0;36m<lambda>\u001b[0;34m(f, *a, **k)\u001b[0m\n\u001b[1;32m    186\u001b[0m     \u001b[0;31m# but it's overkill for just that one bit of state.\u001b[0m\u001b[0;34m\u001b[0m\u001b[0;34m\u001b[0m\u001b[0;34m\u001b[0m\u001b[0m\n\u001b[1;32m    187\u001b[0m     \u001b[0;32mdef\u001b[0m \u001b[0mmagic_deco\u001b[0m\u001b[0;34m(\u001b[0m\u001b[0marg\u001b[0m\u001b[0;34m)\u001b[0m\u001b[0;34m:\u001b[0m\u001b[0;34m\u001b[0m\u001b[0;34m\u001b[0m\u001b[0m\n\u001b[0;32m--> 188\u001b[0;31m         \u001b[0mcall\u001b[0m \u001b[0;34m=\u001b[0m \u001b[0;32mlambda\u001b[0m \u001b[0mf\u001b[0m\u001b[0;34m,\u001b[0m \u001b[0;34m*\u001b[0m\u001b[0ma\u001b[0m\u001b[0;34m,\u001b[0m \u001b[0;34m**\u001b[0m\u001b[0mk\u001b[0m\u001b[0;34m:\u001b[0m \u001b[0mf\u001b[0m\u001b[0;34m(\u001b[0m\u001b[0;34m*\u001b[0m\u001b[0ma\u001b[0m\u001b[0;34m,\u001b[0m \u001b[0;34m**\u001b[0m\u001b[0mk\u001b[0m\u001b[0;34m)\u001b[0m\u001b[0;34m\u001b[0m\u001b[0;34m\u001b[0m\u001b[0m\n\u001b[0m\u001b[1;32m    189\u001b[0m \u001b[0;34m\u001b[0m\u001b[0m\n\u001b[1;32m    190\u001b[0m         \u001b[0;32mif\u001b[0m \u001b[0mcallable\u001b[0m\u001b[0;34m(\u001b[0m\u001b[0marg\u001b[0m\u001b[0;34m)\u001b[0m\u001b[0;34m:\u001b[0m\u001b[0;34m\u001b[0m\u001b[0;34m\u001b[0m\u001b[0m\n",
            "\u001b[0;32m/usr/local/lib/python3.6/dist-packages/IPython/core/magics/execution.py\u001b[0m in \u001b[0;36mtime\u001b[0;34m(self, line, cell, local_ns)\u001b[0m\n\u001b[1;32m   1191\u001b[0m         \u001b[0;32melse\u001b[0m\u001b[0;34m:\u001b[0m\u001b[0;34m\u001b[0m\u001b[0;34m\u001b[0m\u001b[0m\n\u001b[1;32m   1192\u001b[0m             \u001b[0mst\u001b[0m \u001b[0;34m=\u001b[0m \u001b[0mclock2\u001b[0m\u001b[0;34m(\u001b[0m\u001b[0;34m)\u001b[0m\u001b[0;34m\u001b[0m\u001b[0;34m\u001b[0m\u001b[0m\n\u001b[0;32m-> 1193\u001b[0;31m             \u001b[0mexec\u001b[0m\u001b[0;34m(\u001b[0m\u001b[0mcode\u001b[0m\u001b[0;34m,\u001b[0m \u001b[0mglob\u001b[0m\u001b[0;34m,\u001b[0m \u001b[0mlocal_ns\u001b[0m\u001b[0;34m)\u001b[0m\u001b[0;34m\u001b[0m\u001b[0;34m\u001b[0m\u001b[0m\n\u001b[0m\u001b[1;32m   1194\u001b[0m             \u001b[0mend\u001b[0m \u001b[0;34m=\u001b[0m \u001b[0mclock2\u001b[0m\u001b[0;34m(\u001b[0m\u001b[0;34m)\u001b[0m\u001b[0;34m\u001b[0m\u001b[0;34m\u001b[0m\u001b[0m\n\u001b[1;32m   1195\u001b[0m             \u001b[0mout\u001b[0m \u001b[0;34m=\u001b[0m \u001b[0;32mNone\u001b[0m\u001b[0;34m\u001b[0m\u001b[0;34m\u001b[0m\u001b[0m\n",
            "\u001b[0;32m<timed exec>\u001b[0m in \u001b[0;36m<module>\u001b[0;34m()\u001b[0m\n",
            "\u001b[0;32m<ipython-input-38-880e8985b588>\u001b[0m in \u001b[0;36mtrain\u001b[0;34m(dataset, model, batch_size, n_epochs)\u001b[0m\n\u001b[1;32m     13\u001b[0m             \u001b[0mguess\u001b[0m \u001b[0;34m=\u001b[0m \u001b[0mmodel\u001b[0m\u001b[0;34m(\u001b[0m\u001b[0mgiven\u001b[0m\u001b[0;34m)\u001b[0m\u001b[0;34m\u001b[0m\u001b[0;34m\u001b[0m\u001b[0m\n\u001b[1;32m     14\u001b[0m             \u001b[0manswer\u001b[0m \u001b[0;34m=\u001b[0m \u001b[0mbatch\u001b[0m\u001b[0;34m[\u001b[0m\u001b[0;34m\"answer\"\u001b[0m\u001b[0;34m]\u001b[0m\u001b[0;34m.\u001b[0m\u001b[0mcuda\u001b[0m\u001b[0;34m(\u001b[0m\u001b[0;34m)\u001b[0m\u001b[0;34m\u001b[0m\u001b[0;34m\u001b[0m\u001b[0m\n\u001b[0;32m---> 15\u001b[0;31m             \u001b[0mloss\u001b[0m \u001b[0;34m=\u001b[0m \u001b[0mloss_fn\u001b[0m\u001b[0;34m(\u001b[0m\u001b[0manswer\u001b[0m\u001b[0;34m,\u001b[0m \u001b[0mguess\u001b[0m\u001b[0;34m)\u001b[0m\u001b[0;34m\u001b[0m\u001b[0;34m\u001b[0m\u001b[0m\n\u001b[0m\u001b[1;32m     16\u001b[0m             \u001b[0mloss\u001b[0m\u001b[0;34m.\u001b[0m\u001b[0mbackward\u001b[0m\u001b[0;34m(\u001b[0m\u001b[0;34m)\u001b[0m\u001b[0;34m\u001b[0m\u001b[0;34m\u001b[0m\u001b[0m\n\u001b[1;32m     17\u001b[0m             \u001b[0mepoch_loss\u001b[0m \u001b[0;34m+=\u001b[0m \u001b[0mloss\u001b[0m\u001b[0;34m.\u001b[0m\u001b[0mitem\u001b[0m\u001b[0;34m(\u001b[0m\u001b[0;34m)\u001b[0m\u001b[0;34m\u001b[0m\u001b[0;34m\u001b[0m\u001b[0m\n",
            "\u001b[0;32m/usr/local/lib/python3.6/dist-packages/torch/nn/modules/module.py\u001b[0m in \u001b[0;36m_call_impl\u001b[0;34m(self, *input, **kwargs)\u001b[0m\n\u001b[1;32m    720\u001b[0m             \u001b[0mresult\u001b[0m \u001b[0;34m=\u001b[0m \u001b[0mself\u001b[0m\u001b[0;34m.\u001b[0m\u001b[0m_slow_forward\u001b[0m\u001b[0;34m(\u001b[0m\u001b[0;34m*\u001b[0m\u001b[0minput\u001b[0m\u001b[0;34m,\u001b[0m \u001b[0;34m**\u001b[0m\u001b[0mkwargs\u001b[0m\u001b[0;34m)\u001b[0m\u001b[0;34m\u001b[0m\u001b[0;34m\u001b[0m\u001b[0m\n\u001b[1;32m    721\u001b[0m         \u001b[0;32melse\u001b[0m\u001b[0;34m:\u001b[0m\u001b[0;34m\u001b[0m\u001b[0;34m\u001b[0m\u001b[0m\n\u001b[0;32m--> 722\u001b[0;31m             \u001b[0mresult\u001b[0m \u001b[0;34m=\u001b[0m \u001b[0mself\u001b[0m\u001b[0;34m.\u001b[0m\u001b[0mforward\u001b[0m\u001b[0;34m(\u001b[0m\u001b[0;34m*\u001b[0m\u001b[0minput\u001b[0m\u001b[0;34m,\u001b[0m \u001b[0;34m**\u001b[0m\u001b[0mkwargs\u001b[0m\u001b[0;34m)\u001b[0m\u001b[0;34m\u001b[0m\u001b[0;34m\u001b[0m\u001b[0m\n\u001b[0m\u001b[1;32m    723\u001b[0m         for hook in itertools.chain(\n\u001b[1;32m    724\u001b[0m                 \u001b[0m_global_forward_hooks\u001b[0m\u001b[0;34m.\u001b[0m\u001b[0mvalues\u001b[0m\u001b[0;34m(\u001b[0m\u001b[0;34m)\u001b[0m\u001b[0;34m,\u001b[0m\u001b[0;34m\u001b[0m\u001b[0;34m\u001b[0m\u001b[0m\n",
            "\u001b[0;32m/usr/local/lib/python3.6/dist-packages/torch/nn/modules/loss.py\u001b[0m in \u001b[0;36mforward\u001b[0;34m(self, input, target)\u001b[0m\n\u001b[1;32m    443\u001b[0m \u001b[0;34m\u001b[0m\u001b[0m\n\u001b[1;32m    444\u001b[0m     \u001b[0;32mdef\u001b[0m \u001b[0mforward\u001b[0m\u001b[0;34m(\u001b[0m\u001b[0mself\u001b[0m\u001b[0;34m,\u001b[0m \u001b[0minput\u001b[0m\u001b[0;34m:\u001b[0m \u001b[0mTensor\u001b[0m\u001b[0;34m,\u001b[0m \u001b[0mtarget\u001b[0m\u001b[0;34m:\u001b[0m \u001b[0mTensor\u001b[0m\u001b[0;34m)\u001b[0m \u001b[0;34m->\u001b[0m \u001b[0mTensor\u001b[0m\u001b[0;34m:\u001b[0m\u001b[0;34m\u001b[0m\u001b[0;34m\u001b[0m\u001b[0m\n\u001b[0;32m--> 445\u001b[0;31m         \u001b[0;32mreturn\u001b[0m \u001b[0mF\u001b[0m\u001b[0;34m.\u001b[0m\u001b[0mmse_loss\u001b[0m\u001b[0;34m(\u001b[0m\u001b[0minput\u001b[0m\u001b[0;34m,\u001b[0m \u001b[0mtarget\u001b[0m\u001b[0;34m,\u001b[0m \u001b[0mreduction\u001b[0m\u001b[0;34m=\u001b[0m\u001b[0mself\u001b[0m\u001b[0;34m.\u001b[0m\u001b[0mreduction\u001b[0m\u001b[0;34m)\u001b[0m\u001b[0;34m\u001b[0m\u001b[0;34m\u001b[0m\u001b[0m\n\u001b[0m\u001b[1;32m    446\u001b[0m \u001b[0;34m\u001b[0m\u001b[0m\n\u001b[1;32m    447\u001b[0m \u001b[0;34m\u001b[0m\u001b[0m\n",
            "\u001b[0;32m/usr/local/lib/python3.6/dist-packages/torch/nn/functional.py\u001b[0m in \u001b[0;36mmse_loss\u001b[0;34m(input, target, size_average, reduce, reduction)\u001b[0m\n\u001b[1;32m   2641\u001b[0m         \u001b[0mreduction\u001b[0m \u001b[0;34m=\u001b[0m \u001b[0m_Reduction\u001b[0m\u001b[0;34m.\u001b[0m\u001b[0mlegacy_get_string\u001b[0m\u001b[0;34m(\u001b[0m\u001b[0msize_average\u001b[0m\u001b[0;34m,\u001b[0m \u001b[0mreduce\u001b[0m\u001b[0;34m)\u001b[0m\u001b[0;34m\u001b[0m\u001b[0;34m\u001b[0m\u001b[0m\n\u001b[1;32m   2642\u001b[0m     \u001b[0;32mif\u001b[0m \u001b[0mtarget\u001b[0m\u001b[0;34m.\u001b[0m\u001b[0mrequires_grad\u001b[0m\u001b[0;34m:\u001b[0m\u001b[0;34m\u001b[0m\u001b[0;34m\u001b[0m\u001b[0m\n\u001b[0;32m-> 2643\u001b[0;31m         \u001b[0mret\u001b[0m \u001b[0;34m=\u001b[0m \u001b[0;34m(\u001b[0m\u001b[0minput\u001b[0m \u001b[0;34m-\u001b[0m \u001b[0mtarget\u001b[0m\u001b[0;34m)\u001b[0m \u001b[0;34m**\u001b[0m \u001b[0;36m2\u001b[0m\u001b[0;34m\u001b[0m\u001b[0;34m\u001b[0m\u001b[0m\n\u001b[0m\u001b[1;32m   2644\u001b[0m         \u001b[0;32mif\u001b[0m \u001b[0mreduction\u001b[0m \u001b[0;34m!=\u001b[0m \u001b[0;34m'none'\u001b[0m\u001b[0;34m:\u001b[0m\u001b[0;34m\u001b[0m\u001b[0;34m\u001b[0m\u001b[0m\n\u001b[1;32m   2645\u001b[0m             \u001b[0mret\u001b[0m \u001b[0;34m=\u001b[0m \u001b[0mtorch\u001b[0m\u001b[0;34m.\u001b[0m\u001b[0mmean\u001b[0m\u001b[0;34m(\u001b[0m\u001b[0mret\u001b[0m\u001b[0;34m)\u001b[0m \u001b[0;32mif\u001b[0m \u001b[0mreduction\u001b[0m \u001b[0;34m==\u001b[0m \u001b[0;34m'mean'\u001b[0m \u001b[0;32melse\u001b[0m \u001b[0mtorch\u001b[0m\u001b[0;34m.\u001b[0m\u001b[0msum\u001b[0m\u001b[0;34m(\u001b[0m\u001b[0mret\u001b[0m\u001b[0;34m)\u001b[0m\u001b[0;34m\u001b[0m\u001b[0;34m\u001b[0m\u001b[0m\n",
            "\u001b[0;31mRuntimeError\u001b[0m: The size of tensor a (89) must match the size of tensor b (90) at non-singleton dimension 1"
          ]
        }
      ]
    },
    {
      "cell_type": "code",
      "metadata": {
        "id": "7Zgn9kVDymBO",
        "colab_type": "code",
        "colab": {}
      },
      "source": [
        "BEST_MODEL[\"loss\"], BEST_MODEL[\"epoch\"]"
      ],
      "execution_count": null,
      "outputs": []
    },
    {
      "cell_type": "code",
      "metadata": {
        "id": "8kPRAEWLytfU",
        "colab_type": "code",
        "colab": {}
      },
      "source": [
        "with open(\"model.pt\", \"wb\") as f:\n",
        "  torch.save(\n",
        "            {\n",
        "          \"state\": BEST_MODEL[\"state\"],\n",
        "          \"best_epoch\": BEST_MODEL[\"epoch\"],\n",
        "          \"loss_history\": LOSS_HISTORY,\n",
        "      },\n",
        "      f,\n",
        "  )"
      ],
      "execution_count": null,
      "outputs": []
    },
    {
      "cell_type": "code",
      "metadata": {
        "id": "tMvSUs7d6azw",
        "colab_type": "code",
        "colab": {}
      },
      "source": [
        "# check loss\n",
        "plt.figure(figsize=(16, 4))\n",
        "plt.title(\"Training Loss Graph\")\n",
        "plt.xlabel(\"epochs\")\n",
        "plt.ylabel(\"loss\")\n",
        "plt.yscale(\"log\")\n",
        "plt.plot(LOSS_HISTORY)\n",
        "plt.show()"
      ],
      "execution_count": null,
      "outputs": []
    },
    {
      "cell_type": "markdown",
      "metadata": {
        "id": "4jbujm2vzOue",
        "colab_type": "text"
      },
      "source": [
        "## Validation"
      ]
    },
    {
      "cell_type": "code",
      "metadata": {
        "id": "lquN0vHJzCSe",
        "colab_type": "code",
        "colab": {}
      },
      "source": [
        "# load model\n",
        "with open(\"/content/model.pt\", \"rb\") as f:\n",
        "    SAVED_MODEL = torch.load(f)\n",
        "\n",
        "MODEL.load_state_dict(SAVED_MODEL[\"state\"])"
      ],
      "execution_count": null,
      "outputs": []
    },
    {
      "cell_type": "code",
      "metadata": {
        "id": "TVOhnup55g9M",
        "colab_type": "code",
        "colab": {}
      },
      "source": [
        "def inference(dataset, model, batch_size):\n",
        "    dataloader = DataLoader(dataset, batch_size=batch_size)\n",
        "    ts, dist, att = [], [], []\n",
        "    with torch.no_grad():\n",
        "        for batch in dataloader:\n",
        "            given = batch[\"given\"].cuda()\n",
        "            answer = batch[\"answer\"].cuda()\n",
        "            guess = model(given)\n",
        "            ts.append(np.array(batch[\"ts\"]))\n",
        "            dist.append(torch.abs(answer - guess).cpu().numpy())\n",
        "            try:\n",
        "                att.append(np.array(batch[\"attack\"]))\n",
        "            except:\n",
        "                att.append(np.zeros(batch_size))\n",
        "            \n",
        "    return (\n",
        "        np.concatenate(ts),\n",
        "        np.concatenate(dist),\n",
        "        np.concatenate(att),\n",
        "    )\n",
        "\n",
        "def check_graph(xs, att, piece=2, THRESHOLD=None):\n",
        "    l = xs.shape[0]\n",
        "    chunk = l // piece\n",
        "    fig, axs = plt.subplots(piece, figsize=(20, 6 * piece))\n",
        "    # plt.ylim(0.01, 0.1)\n",
        "    for i in range(piece):\n",
        "        L = i * chunk\n",
        "        R = min(L + chunk, l)\n",
        "        xticks = range(L, R)\n",
        "        axs[i].plot(xticks, xs[L:R])\n",
        "        if len(xs[L:R]) > 0:\n",
        "            peak = max(xs[L:R])\n",
        "            axs[i].plot(xticks, att[L:R] * peak * 0.3)\n",
        "        if THRESHOLD!=None:\n",
        "            axs[i].axhline(y=THRESHOLD, color='r')\n",
        "    plt.show()\n",
        "\n",
        "def put_labels(distance, threshold):\n",
        "    xs = np.zeros_like(distance)\n",
        "    xs[distance > threshold] = 1\n",
        "    return xs\n",
        "\n",
        "def fill_blank(check_ts, labels, total_ts):\n",
        "    def ts_generator():\n",
        "        for t in total_ts:\n",
        "            yield dateutil.parser.parse(t)\n",
        "\n",
        "    def label_generator():\n",
        "        for t, label in zip(check_ts, labels):\n",
        "            yield dateutil.parser.parse(t), label\n",
        "\n",
        "    g_ts = ts_generator()\n",
        "    g_label = label_generator()\n",
        "    final_labels = []\n",
        "\n",
        "    try:\n",
        "        current = next(g_ts)\n",
        "        ts_label, label = next(g_label)\n",
        "        while True:\n",
        "            if current > ts_label:\n",
        "                ts_label, label = next(g_label)\n",
        "                continue\n",
        "            elif current < ts_label:\n",
        "                final_labels.append(0)\n",
        "                current = next(g_ts)\n",
        "                continue\n",
        "            final_labels.append(label)\n",
        "            current = next(g_ts)\n",
        "            ts_label, label = next(g_label)\n",
        "    except StopIteration:\n",
        "        return np.array(final_labels, dtype=np.int8)"
      ],
      "execution_count": null,
      "outputs": []
    },
    {
      "cell_type": "code",
      "metadata": {
        "id": "KinvkCOU2l7p",
        "colab_type": "code",
        "colab": {}
      },
      "source": [
        "%%time\n",
        "BATCH_SIZE = 512\n",
        "MODEL.eval()\n",
        "CHECK_TS, CHECK_DIST, CHECK_ATT = inference(HAI_DATASET_VALIDATION, MODEL, BATCH_SIZE)"
      ],
      "execution_count": null,
      "outputs": []
    },
    {
      "cell_type": "code",
      "metadata": {
        "id": "6-nGYGZj3oJR",
        "colab_type": "code",
        "colab": {}
      },
      "source": [
        "CHECK_DIST.shape #(43112, 79) / (43112, 90, 79) for autoencoder"
      ],
      "execution_count": null,
      "outputs": []
    },
    {
      "cell_type": "code",
      "metadata": {
        "id": "9m3j5Y8Y4hlC",
        "colab_type": "code",
        "colab": {}
      },
      "source": [
        "#ANOMALY_SCORE = np.mean(CHECK_DIST, axis=1)\n",
        "ANOMALY_SCORE = np.mean(np.mean(CHECK_DIST, axis=1), axis = 1)\n",
        "ANOMALY_SCORE.shape #(43112,)"
      ],
      "execution_count": null,
      "outputs": []
    },
    {
      "cell_type": "code",
      "metadata": {
        "id": "belt-EXl5kNL",
        "colab_type": "code",
        "colab": {}
      },
      "source": [
        "THRESHOLD = 0.059 # change !!\n",
        "check_graph(ANOMALY_SCORE, CHECK_ATT, piece=2, THRESHOLD=THRESHOLD)"
      ],
      "execution_count": null,
      "outputs": []
    },
    {
      "cell_type": "code",
      "metadata": {
        "id": "H5nZHLHL6m5V",
        "colab_type": "code",
        "colab": {}
      },
      "source": [
        "LABELS = put_labels(ANOMALY_SCORE, THRESHOLD)\n",
        "display(LABELS, LABELS.shape) #(43112,)\n",
        "LABELS = fill_blank(CHECK_TS, LABELS, np.array(VALIDATION_DATASET['time']))\n",
        "print(LABELS.shape)"
      ],
      "execution_count": null,
      "outputs": []
    },
    {
      "cell_type": "code",
      "metadata": {
        "id": "AwPf8Aev-kfF",
        "colab_type": "code",
        "colab": {}
      },
      "source": [
        "ATTACK_LABELS = np.squeeze(np.array(VALIDATION_DATASET['attack']))\n",
        "# ATTACK_LABELS = put_labels(np.array(VALIDATION_DF_RAW[ATTACK_FIELD]), 0.5)\n",
        "ATTACK_LABELS, ATTACK_LABELS.shape"
      ],
      "execution_count": null,
      "outputs": []
    },
    {
      "cell_type": "code",
      "metadata": {
        "id": "ZmyBdAuq9IqB",
        "colab_type": "code",
        "colab": {}
      },
      "source": [
        "ATTACK_LABELS.shape[0] == LABELS.shape[0]"
      ],
      "execution_count": null,
      "outputs": []
    },
    {
      "cell_type": "markdown",
      "metadata": {
        "id": "eBijJ0cOC39L",
        "colab_type": "text"
      },
      "source": [
        "### Get score"
      ]
    },
    {
      "cell_type": "code",
      "metadata": {
        "id": "gwJMvZzKC5Rm",
        "colab_type": "code",
        "colab": {}
      },
      "source": [
        "TaPR = etapr.evaluate(anomalies=ATTACK_LABELS, predictions=LABELS)\n",
        "print(f\"F1: {TaPR['f1']:.3f} (TaP: {TaPR['TaP']:.3f}, TaR: {TaPR['TaR']:.3f})\")\n",
        "print(f\"# of detected anomalies: {len(TaPR['Detected_Anomalies'])}\")\n",
        "print(f\"Detected anomalies: {TaPR['Detected_Anomalies']}\")"
      ],
      "execution_count": null,
      "outputs": []
    },
    {
      "cell_type": "markdown",
      "metadata": {
        "id": "ePAQRZ6LDNCQ",
        "colab_type": "text"
      },
      "source": [
        "## Test"
      ]
    },
    {
      "cell_type": "code",
      "metadata": {
        "id": "g__CDBh4DN9b",
        "colab_type": "code",
        "colab": {}
      },
      "source": [
        "%%time\n",
        "MODEL.eval()\n",
        "CHECK_TS, CHECK_DIST, CHECK_ATT = inference(HAI_TEST, MODEL, BATCH_SIZE)"
      ],
      "execution_count": null,
      "outputs": []
    },
    {
      "cell_type": "code",
      "metadata": {
        "id": "WqirWXUOES-k",
        "colab_type": "code",
        "colab": {}
      },
      "source": [
        "ANOMALY_SCORE = np.mean(CHECK_DIST, axis=1)\n",
        "ANOMALY_SCORE.shape"
      ],
      "execution_count": null,
      "outputs": []
    },
    {
      "cell_type": "code",
      "metadata": {
        "id": "jBQFMdtOEWuc",
        "colab_type": "code",
        "colab": {}
      },
      "source": [
        "check_graph(ANOMALY_SCORE, CHECK_ATT, piece=3, THRESHOLD=THRESHOLD)"
      ],
      "execution_count": null,
      "outputs": []
    },
    {
      "cell_type": "code",
      "metadata": {
        "id": "PGkePwQUEVVT",
        "colab_type": "code",
        "colab": {}
      },
      "source": [
        "LABELS = put_labels(ANOMALY_SCORE, THRESHOLD)\n",
        "LABELS, LABELS.shape"
      ],
      "execution_count": null,
      "outputs": []
    },
    {
      "cell_type": "code",
      "metadata": {
        "id": "VvLvZBSpEz2R",
        "colab_type": "code",
        "colab": {}
      },
      "source": [
        "submission = pd.read_csv(HOME + '/data/sample_submission.csv')\n",
        "submission.index = submission['time']\n",
        "submission.loc[CHECK_TS,'attack'] = LABELS\n",
        "submission"
      ],
      "execution_count": null,
      "outputs": []
    },
    {
      "cell_type": "code",
      "metadata": {
        "id": "ql3vq1PZFATJ",
        "colab_type": "code",
        "colab": {}
      },
      "source": [
        "submission.to_csv('autoencoder.csv', index=False)"
      ],
      "execution_count": null,
      "outputs": []
    }
  ]
}