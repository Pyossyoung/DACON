{
  "nbformat": 4,
  "nbformat_minor": 0,
  "metadata": {
    "colab": {
      "name": "Custom Baseline",
      "provenance": [],
      "collapsed_sections": [
        "hHF6O_ZtknuD",
        "h_-6jabwkw9S",
        "PkBl95dojEDj",
        "qNICEMlUYSLy"
      ],
      "toc_visible": true
    },
    "kernelspec": {
      "name": "python3",
      "display_name": "Python 3"
    },
    "accelerator": "GPU",
    "widgets": {
      "application/vnd.jupyter.widget-state+json": {
        "d1588a01b9b94393ae52de39a18f216c": {
          "model_module": "@jupyter-widgets/controls",
          "model_name": "HBoxModel",
          "state": {
            "_view_name": "HBoxView",
            "_dom_classes": [],
            "_model_name": "HBoxModel",
            "_view_module": "@jupyter-widgets/controls",
            "_model_module_version": "1.5.0",
            "_view_count": null,
            "_view_module_version": "1.5.0",
            "box_style": "",
            "layout": "IPY_MODEL_48d1383f24cd4c8cb30556a3f3a65dd2",
            "_model_module": "@jupyter-widgets/controls",
            "children": [
              "IPY_MODEL_f4ff0c04aa98467880605c3b0170f704",
              "IPY_MODEL_1cb58504484047648040702d8651019b"
            ]
          }
        },
        "48d1383f24cd4c8cb30556a3f3a65dd2": {
          "model_module": "@jupyter-widgets/base",
          "model_name": "LayoutModel",
          "state": {
            "_view_name": "LayoutView",
            "grid_template_rows": null,
            "right": null,
            "justify_content": null,
            "_view_module": "@jupyter-widgets/base",
            "overflow": null,
            "_model_module_version": "1.2.0",
            "_view_count": null,
            "flex_flow": null,
            "width": null,
            "min_width": null,
            "border": null,
            "align_items": null,
            "bottom": null,
            "_model_module": "@jupyter-widgets/base",
            "top": null,
            "grid_column": null,
            "overflow_y": null,
            "overflow_x": null,
            "grid_auto_flow": null,
            "grid_area": null,
            "grid_template_columns": null,
            "flex": null,
            "_model_name": "LayoutModel",
            "justify_items": null,
            "grid_row": null,
            "max_height": null,
            "align_content": null,
            "visibility": null,
            "align_self": null,
            "height": null,
            "min_height": null,
            "padding": null,
            "grid_auto_rows": null,
            "grid_gap": null,
            "max_width": null,
            "order": null,
            "_view_module_version": "1.2.0",
            "grid_template_areas": null,
            "object_position": null,
            "object_fit": null,
            "grid_auto_columns": null,
            "margin": null,
            "display": null,
            "left": null
          }
        },
        "f4ff0c04aa98467880605c3b0170f704": {
          "model_module": "@jupyter-widgets/controls",
          "model_name": "FloatProgressModel",
          "state": {
            "_view_name": "ProgressView",
            "style": "IPY_MODEL_54638aed5b2e4854bfcef8dd6f552bfe",
            "_dom_classes": [],
            "description": "100%",
            "_model_name": "FloatProgressModel",
            "bar_style": "success",
            "max": 921554,
            "_view_module": "@jupyter-widgets/controls",
            "_model_module_version": "1.5.0",
            "value": 921554,
            "_view_count": null,
            "_view_module_version": "1.5.0",
            "orientation": "horizontal",
            "min": 0,
            "description_tooltip": null,
            "_model_module": "@jupyter-widgets/controls",
            "layout": "IPY_MODEL_f39154e8e9d84e33a743f1d45f6bee31"
          }
        },
        "1cb58504484047648040702d8651019b": {
          "model_module": "@jupyter-widgets/controls",
          "model_name": "HTMLModel",
          "state": {
            "_view_name": "HTMLView",
            "style": "IPY_MODEL_8ad0f0b7c79d4b99aa43a9028875921d",
            "_dom_classes": [],
            "description": "",
            "_model_name": "HTMLModel",
            "placeholder": "​",
            "_view_module": "@jupyter-widgets/controls",
            "_model_module_version": "1.5.0",
            "value": " 921554/921554 [05:38&lt;00:00, 2725.28it/s]",
            "_view_count": null,
            "_view_module_version": "1.5.0",
            "description_tooltip": null,
            "_model_module": "@jupyter-widgets/controls",
            "layout": "IPY_MODEL_dca7e8eea9c9400cb29848c909d065d0"
          }
        },
        "54638aed5b2e4854bfcef8dd6f552bfe": {
          "model_module": "@jupyter-widgets/controls",
          "model_name": "ProgressStyleModel",
          "state": {
            "_view_name": "StyleView",
            "_model_name": "ProgressStyleModel",
            "description_width": "initial",
            "_view_module": "@jupyter-widgets/base",
            "_model_module_version": "1.5.0",
            "_view_count": null,
            "_view_module_version": "1.2.0",
            "bar_color": null,
            "_model_module": "@jupyter-widgets/controls"
          }
        },
        "f39154e8e9d84e33a743f1d45f6bee31": {
          "model_module": "@jupyter-widgets/base",
          "model_name": "LayoutModel",
          "state": {
            "_view_name": "LayoutView",
            "grid_template_rows": null,
            "right": null,
            "justify_content": null,
            "_view_module": "@jupyter-widgets/base",
            "overflow": null,
            "_model_module_version": "1.2.0",
            "_view_count": null,
            "flex_flow": null,
            "width": null,
            "min_width": null,
            "border": null,
            "align_items": null,
            "bottom": null,
            "_model_module": "@jupyter-widgets/base",
            "top": null,
            "grid_column": null,
            "overflow_y": null,
            "overflow_x": null,
            "grid_auto_flow": null,
            "grid_area": null,
            "grid_template_columns": null,
            "flex": null,
            "_model_name": "LayoutModel",
            "justify_items": null,
            "grid_row": null,
            "max_height": null,
            "align_content": null,
            "visibility": null,
            "align_self": null,
            "height": null,
            "min_height": null,
            "padding": null,
            "grid_auto_rows": null,
            "grid_gap": null,
            "max_width": null,
            "order": null,
            "_view_module_version": "1.2.0",
            "grid_template_areas": null,
            "object_position": null,
            "object_fit": null,
            "grid_auto_columns": null,
            "margin": null,
            "display": null,
            "left": null
          }
        },
        "8ad0f0b7c79d4b99aa43a9028875921d": {
          "model_module": "@jupyter-widgets/controls",
          "model_name": "DescriptionStyleModel",
          "state": {
            "_view_name": "StyleView",
            "_model_name": "DescriptionStyleModel",
            "description_width": "",
            "_view_module": "@jupyter-widgets/base",
            "_model_module_version": "1.5.0",
            "_view_count": null,
            "_view_module_version": "1.2.0",
            "_model_module": "@jupyter-widgets/controls"
          }
        },
        "dca7e8eea9c9400cb29848c909d065d0": {
          "model_module": "@jupyter-widgets/base",
          "model_name": "LayoutModel",
          "state": {
            "_view_name": "LayoutView",
            "grid_template_rows": null,
            "right": null,
            "justify_content": null,
            "_view_module": "@jupyter-widgets/base",
            "overflow": null,
            "_model_module_version": "1.2.0",
            "_view_count": null,
            "flex_flow": null,
            "width": null,
            "min_width": null,
            "border": null,
            "align_items": null,
            "bottom": null,
            "_model_module": "@jupyter-widgets/base",
            "top": null,
            "grid_column": null,
            "overflow_y": null,
            "overflow_x": null,
            "grid_auto_flow": null,
            "grid_area": null,
            "grid_template_columns": null,
            "flex": null,
            "_model_name": "LayoutModel",
            "justify_items": null,
            "grid_row": null,
            "max_height": null,
            "align_content": null,
            "visibility": null,
            "align_self": null,
            "height": null,
            "min_height": null,
            "padding": null,
            "grid_auto_rows": null,
            "grid_gap": null,
            "max_width": null,
            "order": null,
            "_view_module_version": "1.2.0",
            "grid_template_areas": null,
            "object_position": null,
            "object_fit": null,
            "grid_auto_columns": null,
            "margin": null,
            "display": null,
            "left": null
          }
        },
        "4b9f8028155a4586a9f9f933e9935ac7": {
          "model_module": "@jupyter-widgets/controls",
          "model_name": "HBoxModel",
          "state": {
            "_view_name": "HBoxView",
            "_dom_classes": [],
            "_model_name": "HBoxModel",
            "_view_module": "@jupyter-widgets/controls",
            "_model_module_version": "1.5.0",
            "_view_count": null,
            "_view_module_version": "1.5.0",
            "box_style": "",
            "layout": "IPY_MODEL_81bfead4d36a45f8ae74d79a74a2f125",
            "_model_module": "@jupyter-widgets/controls",
            "children": [
              "IPY_MODEL_88f3574433fa430d8dc6fc51c54a777b",
              "IPY_MODEL_d5e0a946efa24e039da1b67523a890f6"
            ]
          }
        },
        "81bfead4d36a45f8ae74d79a74a2f125": {
          "model_module": "@jupyter-widgets/base",
          "model_name": "LayoutModel",
          "state": {
            "_view_name": "LayoutView",
            "grid_template_rows": null,
            "right": null,
            "justify_content": null,
            "_view_module": "@jupyter-widgets/base",
            "overflow": null,
            "_model_module_version": "1.2.0",
            "_view_count": null,
            "flex_flow": null,
            "width": null,
            "min_width": null,
            "border": null,
            "align_items": null,
            "bottom": null,
            "_model_module": "@jupyter-widgets/base",
            "top": null,
            "grid_column": null,
            "overflow_y": null,
            "overflow_x": null,
            "grid_auto_flow": null,
            "grid_area": null,
            "grid_template_columns": null,
            "flex": null,
            "_model_name": "LayoutModel",
            "justify_items": null,
            "grid_row": null,
            "max_height": null,
            "align_content": null,
            "visibility": null,
            "align_self": null,
            "height": null,
            "min_height": null,
            "padding": null,
            "grid_auto_rows": null,
            "grid_gap": null,
            "max_width": null,
            "order": null,
            "_view_module_version": "1.2.0",
            "grid_template_areas": null,
            "object_position": null,
            "object_fit": null,
            "grid_auto_columns": null,
            "margin": null,
            "display": null,
            "left": null
          }
        },
        "88f3574433fa430d8dc6fc51c54a777b": {
          "model_module": "@jupyter-widgets/controls",
          "model_name": "FloatProgressModel",
          "state": {
            "_view_name": "ProgressView",
            "style": "IPY_MODEL_7db68bd72c464f5588097f2f75c0657d",
            "_dom_classes": [],
            "description": "100%",
            "_model_name": "FloatProgressModel",
            "bar_style": "success",
            "max": 43152,
            "_view_module": "@jupyter-widgets/controls",
            "_model_module_version": "1.5.0",
            "value": 43152,
            "_view_count": null,
            "_view_module_version": "1.5.0",
            "orientation": "horizontal",
            "min": 0,
            "description_tooltip": null,
            "_model_module": "@jupyter-widgets/controls",
            "layout": "IPY_MODEL_b18fc8300364404ba0f5516372d50581"
          }
        },
        "d5e0a946efa24e039da1b67523a890f6": {
          "model_module": "@jupyter-widgets/controls",
          "model_name": "HTMLModel",
          "state": {
            "_view_name": "HTMLView",
            "style": "IPY_MODEL_f74c3a3433384fcaab56446ebdfeabd3",
            "_dom_classes": [],
            "description": "",
            "_model_name": "HTMLModel",
            "placeholder": "​",
            "_view_module": "@jupyter-widgets/controls",
            "_model_module_version": "1.5.0",
            "value": " 43152/43152 [02:45&lt;00:00, 260.55it/s]",
            "_view_count": null,
            "_view_module_version": "1.5.0",
            "description_tooltip": null,
            "_model_module": "@jupyter-widgets/controls",
            "layout": "IPY_MODEL_1659e80abbd747e9b393c811c07821e9"
          }
        },
        "7db68bd72c464f5588097f2f75c0657d": {
          "model_module": "@jupyter-widgets/controls",
          "model_name": "ProgressStyleModel",
          "state": {
            "_view_name": "StyleView",
            "_model_name": "ProgressStyleModel",
            "description_width": "initial",
            "_view_module": "@jupyter-widgets/base",
            "_model_module_version": "1.5.0",
            "_view_count": null,
            "_view_module_version": "1.2.0",
            "bar_color": null,
            "_model_module": "@jupyter-widgets/controls"
          }
        },
        "b18fc8300364404ba0f5516372d50581": {
          "model_module": "@jupyter-widgets/base",
          "model_name": "LayoutModel",
          "state": {
            "_view_name": "LayoutView",
            "grid_template_rows": null,
            "right": null,
            "justify_content": null,
            "_view_module": "@jupyter-widgets/base",
            "overflow": null,
            "_model_module_version": "1.2.0",
            "_view_count": null,
            "flex_flow": null,
            "width": null,
            "min_width": null,
            "border": null,
            "align_items": null,
            "bottom": null,
            "_model_module": "@jupyter-widgets/base",
            "top": null,
            "grid_column": null,
            "overflow_y": null,
            "overflow_x": null,
            "grid_auto_flow": null,
            "grid_area": null,
            "grid_template_columns": null,
            "flex": null,
            "_model_name": "LayoutModel",
            "justify_items": null,
            "grid_row": null,
            "max_height": null,
            "align_content": null,
            "visibility": null,
            "align_self": null,
            "height": null,
            "min_height": null,
            "padding": null,
            "grid_auto_rows": null,
            "grid_gap": null,
            "max_width": null,
            "order": null,
            "_view_module_version": "1.2.0",
            "grid_template_areas": null,
            "object_position": null,
            "object_fit": null,
            "grid_auto_columns": null,
            "margin": null,
            "display": null,
            "left": null
          }
        },
        "f74c3a3433384fcaab56446ebdfeabd3": {
          "model_module": "@jupyter-widgets/controls",
          "model_name": "DescriptionStyleModel",
          "state": {
            "_view_name": "StyleView",
            "_model_name": "DescriptionStyleModel",
            "description_width": "",
            "_view_module": "@jupyter-widgets/base",
            "_model_module_version": "1.5.0",
            "_view_count": null,
            "_view_module_version": "1.2.0",
            "_model_module": "@jupyter-widgets/controls"
          }
        },
        "1659e80abbd747e9b393c811c07821e9": {
          "model_module": "@jupyter-widgets/base",
          "model_name": "LayoutModel",
          "state": {
            "_view_name": "LayoutView",
            "grid_template_rows": null,
            "right": null,
            "justify_content": null,
            "_view_module": "@jupyter-widgets/base",
            "overflow": null,
            "_model_module_version": "1.2.0",
            "_view_count": null,
            "flex_flow": null,
            "width": null,
            "min_width": null,
            "border": null,
            "align_items": null,
            "bottom": null,
            "_model_module": "@jupyter-widgets/base",
            "top": null,
            "grid_column": null,
            "overflow_y": null,
            "overflow_x": null,
            "grid_auto_flow": null,
            "grid_area": null,
            "grid_template_columns": null,
            "flex": null,
            "_model_name": "LayoutModel",
            "justify_items": null,
            "grid_row": null,
            "max_height": null,
            "align_content": null,
            "visibility": null,
            "align_self": null,
            "height": null,
            "min_height": null,
            "padding": null,
            "grid_auto_rows": null,
            "grid_gap": null,
            "max_width": null,
            "order": null,
            "_view_module_version": "1.2.0",
            "grid_template_areas": null,
            "object_position": null,
            "object_fit": null,
            "grid_auto_columns": null,
            "margin": null,
            "display": null,
            "left": null
          }
        },
        "a446035bc8664144a801c5e4958a497a": {
          "model_module": "@jupyter-widgets/controls",
          "model_name": "HBoxModel",
          "state": {
            "_view_name": "HBoxView",
            "_dom_classes": [],
            "_model_name": "HBoxModel",
            "_view_module": "@jupyter-widgets/controls",
            "_model_module_version": "1.5.0",
            "_view_count": null,
            "_view_module_version": "1.5.0",
            "box_style": "",
            "layout": "IPY_MODEL_b6af82d0a1424069a8185c2dbee9a002",
            "_model_module": "@jupyter-widgets/controls",
            "children": [
              "IPY_MODEL_ff392080ca804fff99ec6aace321a87f",
              "IPY_MODEL_9d14fa5c55394ae09605c9fa2e8639e4"
            ]
          }
        },
        "b6af82d0a1424069a8185c2dbee9a002": {
          "model_module": "@jupyter-widgets/base",
          "model_name": "LayoutModel",
          "state": {
            "_view_name": "LayoutView",
            "grid_template_rows": null,
            "right": null,
            "justify_content": null,
            "_view_module": "@jupyter-widgets/base",
            "overflow": null,
            "_model_module_version": "1.2.0",
            "_view_count": null,
            "flex_flow": null,
            "width": null,
            "min_width": null,
            "border": null,
            "align_items": null,
            "bottom": null,
            "_model_module": "@jupyter-widgets/base",
            "top": null,
            "grid_column": null,
            "overflow_y": null,
            "overflow_x": null,
            "grid_auto_flow": null,
            "grid_area": null,
            "grid_template_columns": null,
            "flex": null,
            "_model_name": "LayoutModel",
            "justify_items": null,
            "grid_row": null,
            "max_height": null,
            "align_content": null,
            "visibility": null,
            "align_self": null,
            "height": null,
            "min_height": null,
            "padding": null,
            "grid_auto_rows": null,
            "grid_gap": null,
            "max_width": null,
            "order": null,
            "_view_module_version": "1.2.0",
            "grid_template_areas": null,
            "object_position": null,
            "object_fit": null,
            "grid_auto_columns": null,
            "margin": null,
            "display": null,
            "left": null
          }
        },
        "ff392080ca804fff99ec6aace321a87f": {
          "model_module": "@jupyter-widgets/controls",
          "model_name": "FloatProgressModel",
          "state": {
            "_view_name": "ProgressView",
            "style": "IPY_MODEL_b16292dd1683481fad53aebc4ccc2559",
            "_dom_classes": [],
            "description": "100%",
            "_model_name": "FloatProgressModel",
            "bar_style": "success",
            "max": 358755,
            "_view_module": "@jupyter-widgets/controls",
            "_model_module_version": "1.5.0",
            "value": 358755,
            "_view_count": null,
            "_view_module_version": "1.5.0",
            "orientation": "horizontal",
            "min": 0,
            "description_tooltip": null,
            "_model_module": "@jupyter-widgets/controls",
            "layout": "IPY_MODEL_95d7abe5b04843baa30b6671f88267de"
          }
        },
        "9d14fa5c55394ae09605c9fa2e8639e4": {
          "model_module": "@jupyter-widgets/controls",
          "model_name": "HTMLModel",
          "state": {
            "_view_name": "HTMLView",
            "style": "IPY_MODEL_124e1161cf2545a3983098d0ba7ff662",
            "_dom_classes": [],
            "description": "",
            "_model_name": "HTMLModel",
            "placeholder": "​",
            "_view_module": "@jupyter-widgets/controls",
            "_model_module_version": "1.5.0",
            "value": " 358755/358755 [02:37&lt;00:00, 2284.73it/s]",
            "_view_count": null,
            "_view_module_version": "1.5.0",
            "description_tooltip": null,
            "_model_module": "@jupyter-widgets/controls",
            "layout": "IPY_MODEL_f248a58244c942088d9d98a34b23423f"
          }
        },
        "b16292dd1683481fad53aebc4ccc2559": {
          "model_module": "@jupyter-widgets/controls",
          "model_name": "ProgressStyleModel",
          "state": {
            "_view_name": "StyleView",
            "_model_name": "ProgressStyleModel",
            "description_width": "initial",
            "_view_module": "@jupyter-widgets/base",
            "_model_module_version": "1.5.0",
            "_view_count": null,
            "_view_module_version": "1.2.0",
            "bar_color": null,
            "_model_module": "@jupyter-widgets/controls"
          }
        },
        "95d7abe5b04843baa30b6671f88267de": {
          "model_module": "@jupyter-widgets/base",
          "model_name": "LayoutModel",
          "state": {
            "_view_name": "LayoutView",
            "grid_template_rows": null,
            "right": null,
            "justify_content": null,
            "_view_module": "@jupyter-widgets/base",
            "overflow": null,
            "_model_module_version": "1.2.0",
            "_view_count": null,
            "flex_flow": null,
            "width": null,
            "min_width": null,
            "border": null,
            "align_items": null,
            "bottom": null,
            "_model_module": "@jupyter-widgets/base",
            "top": null,
            "grid_column": null,
            "overflow_y": null,
            "overflow_x": null,
            "grid_auto_flow": null,
            "grid_area": null,
            "grid_template_columns": null,
            "flex": null,
            "_model_name": "LayoutModel",
            "justify_items": null,
            "grid_row": null,
            "max_height": null,
            "align_content": null,
            "visibility": null,
            "align_self": null,
            "height": null,
            "min_height": null,
            "padding": null,
            "grid_auto_rows": null,
            "grid_gap": null,
            "max_width": null,
            "order": null,
            "_view_module_version": "1.2.0",
            "grid_template_areas": null,
            "object_position": null,
            "object_fit": null,
            "grid_auto_columns": null,
            "margin": null,
            "display": null,
            "left": null
          }
        },
        "124e1161cf2545a3983098d0ba7ff662": {
          "model_module": "@jupyter-widgets/controls",
          "model_name": "DescriptionStyleModel",
          "state": {
            "_view_name": "StyleView",
            "_model_name": "DescriptionStyleModel",
            "description_width": "",
            "_view_module": "@jupyter-widgets/base",
            "_model_module_version": "1.5.0",
            "_view_count": null,
            "_view_module_version": "1.2.0",
            "_model_module": "@jupyter-widgets/controls"
          }
        },
        "f248a58244c942088d9d98a34b23423f": {
          "model_module": "@jupyter-widgets/base",
          "model_name": "LayoutModel",
          "state": {
            "_view_name": "LayoutView",
            "grid_template_rows": null,
            "right": null,
            "justify_content": null,
            "_view_module": "@jupyter-widgets/base",
            "overflow": null,
            "_model_module_version": "1.2.0",
            "_view_count": null,
            "flex_flow": null,
            "width": null,
            "min_width": null,
            "border": null,
            "align_items": null,
            "bottom": null,
            "_model_module": "@jupyter-widgets/base",
            "top": null,
            "grid_column": null,
            "overflow_y": null,
            "overflow_x": null,
            "grid_auto_flow": null,
            "grid_area": null,
            "grid_template_columns": null,
            "flex": null,
            "_model_name": "LayoutModel",
            "justify_items": null,
            "grid_row": null,
            "max_height": null,
            "align_content": null,
            "visibility": null,
            "align_self": null,
            "height": null,
            "min_height": null,
            "padding": null,
            "grid_auto_rows": null,
            "grid_gap": null,
            "max_width": null,
            "order": null,
            "_view_module_version": "1.2.0",
            "grid_template_areas": null,
            "object_position": null,
            "object_fit": null,
            "grid_auto_columns": null,
            "margin": null,
            "display": null,
            "left": null
          }
        },
        "4f9fa9065e0249a0a82ab2c3c4e4dbf7": {
          "model_module": "@jupyter-widgets/controls",
          "model_name": "HBoxModel",
          "state": {
            "_view_name": "HBoxView",
            "_dom_classes": [],
            "_model_name": "HBoxModel",
            "_view_module": "@jupyter-widgets/controls",
            "_model_module_version": "1.5.0",
            "_view_count": null,
            "_view_module_version": "1.5.0",
            "box_style": "",
            "layout": "IPY_MODEL_e1321a16f5e748febc6c3bba9b99df84",
            "_model_module": "@jupyter-widgets/controls",
            "children": [
              "IPY_MODEL_92924f0ed1bf4a12b7ff6872c6d342d9",
              "IPY_MODEL_e1c40ba0be5f417fbac0eb329eb734a3"
            ]
          }
        },
        "e1321a16f5e748febc6c3bba9b99df84": {
          "model_module": "@jupyter-widgets/base",
          "model_name": "LayoutModel",
          "state": {
            "_view_name": "LayoutView",
            "grid_template_rows": null,
            "right": null,
            "justify_content": null,
            "_view_module": "@jupyter-widgets/base",
            "overflow": null,
            "_model_module_version": "1.2.0",
            "_view_count": null,
            "flex_flow": null,
            "width": null,
            "min_width": null,
            "border": null,
            "align_items": null,
            "bottom": null,
            "_model_module": "@jupyter-widgets/base",
            "top": null,
            "grid_column": null,
            "overflow_y": null,
            "overflow_x": null,
            "grid_auto_flow": null,
            "grid_area": null,
            "grid_template_columns": null,
            "flex": null,
            "_model_name": "LayoutModel",
            "justify_items": null,
            "grid_row": null,
            "max_height": null,
            "align_content": null,
            "visibility": null,
            "align_self": null,
            "height": null,
            "min_height": null,
            "padding": null,
            "grid_auto_rows": null,
            "grid_gap": null,
            "max_width": null,
            "order": null,
            "_view_module_version": "1.2.0",
            "grid_template_areas": null,
            "object_position": null,
            "object_fit": null,
            "grid_auto_columns": null,
            "margin": null,
            "display": null,
            "left": null
          }
        },
        "92924f0ed1bf4a12b7ff6872c6d342d9": {
          "model_module": "@jupyter-widgets/controls",
          "model_name": "FloatProgressModel",
          "state": {
            "_view_name": "ProgressView",
            "style": "IPY_MODEL_2a477c9a920943f395d6e8d9be4bf28f",
            "_dom_classes": [],
            "description": "training: 100%",
            "_model_name": "FloatProgressModel",
            "bar_style": "success",
            "max": 50,
            "_view_module": "@jupyter-widgets/controls",
            "_model_module_version": "1.5.0",
            "value": 50,
            "_view_count": null,
            "_view_module_version": "1.5.0",
            "orientation": "horizontal",
            "min": 0,
            "description_tooltip": null,
            "_model_module": "@jupyter-widgets/controls",
            "layout": "IPY_MODEL_3f5ed0e4a67b413a8c53a366b50e9e0a"
          }
        },
        "e1c40ba0be5f417fbac0eb329eb734a3": {
          "model_module": "@jupyter-widgets/controls",
          "model_name": "HTMLModel",
          "state": {
            "_view_name": "HTMLView",
            "style": "IPY_MODEL_1e27ae8746e7438b8a1447e9b00079fe",
            "_dom_classes": [],
            "description": "",
            "_model_name": "HTMLModel",
            "placeholder": "​",
            "_view_module": "@jupyter-widgets/controls",
            "_model_module_version": "1.5.0",
            "value": " 50/50 [58:24&lt;00:00, 70.10s/it, loss: 0.224803]",
            "_view_count": null,
            "_view_module_version": "1.5.0",
            "description_tooltip": null,
            "_model_module": "@jupyter-widgets/controls",
            "layout": "IPY_MODEL_421572d3587f481697b5312807f41cc2"
          }
        },
        "2a477c9a920943f395d6e8d9be4bf28f": {
          "model_module": "@jupyter-widgets/controls",
          "model_name": "ProgressStyleModel",
          "state": {
            "_view_name": "StyleView",
            "_model_name": "ProgressStyleModel",
            "description_width": "initial",
            "_view_module": "@jupyter-widgets/base",
            "_model_module_version": "1.5.0",
            "_view_count": null,
            "_view_module_version": "1.2.0",
            "bar_color": null,
            "_model_module": "@jupyter-widgets/controls"
          }
        },
        "3f5ed0e4a67b413a8c53a366b50e9e0a": {
          "model_module": "@jupyter-widgets/base",
          "model_name": "LayoutModel",
          "state": {
            "_view_name": "LayoutView",
            "grid_template_rows": null,
            "right": null,
            "justify_content": null,
            "_view_module": "@jupyter-widgets/base",
            "overflow": null,
            "_model_module_version": "1.2.0",
            "_view_count": null,
            "flex_flow": null,
            "width": null,
            "min_width": null,
            "border": null,
            "align_items": null,
            "bottom": null,
            "_model_module": "@jupyter-widgets/base",
            "top": null,
            "grid_column": null,
            "overflow_y": null,
            "overflow_x": null,
            "grid_auto_flow": null,
            "grid_area": null,
            "grid_template_columns": null,
            "flex": null,
            "_model_name": "LayoutModel",
            "justify_items": null,
            "grid_row": null,
            "max_height": null,
            "align_content": null,
            "visibility": null,
            "align_self": null,
            "height": null,
            "min_height": null,
            "padding": null,
            "grid_auto_rows": null,
            "grid_gap": null,
            "max_width": null,
            "order": null,
            "_view_module_version": "1.2.0",
            "grid_template_areas": null,
            "object_position": null,
            "object_fit": null,
            "grid_auto_columns": null,
            "margin": null,
            "display": null,
            "left": null
          }
        },
        "1e27ae8746e7438b8a1447e9b00079fe": {
          "model_module": "@jupyter-widgets/controls",
          "model_name": "DescriptionStyleModel",
          "state": {
            "_view_name": "StyleView",
            "_model_name": "DescriptionStyleModel",
            "description_width": "",
            "_view_module": "@jupyter-widgets/base",
            "_model_module_version": "1.5.0",
            "_view_count": null,
            "_view_module_version": "1.2.0",
            "_model_module": "@jupyter-widgets/controls"
          }
        },
        "421572d3587f481697b5312807f41cc2": {
          "model_module": "@jupyter-widgets/base",
          "model_name": "LayoutModel",
          "state": {
            "_view_name": "LayoutView",
            "grid_template_rows": null,
            "right": null,
            "justify_content": null,
            "_view_module": "@jupyter-widgets/base",
            "overflow": null,
            "_model_module_version": "1.2.0",
            "_view_count": null,
            "flex_flow": null,
            "width": null,
            "min_width": null,
            "border": null,
            "align_items": null,
            "bottom": null,
            "_model_module": "@jupyter-widgets/base",
            "top": null,
            "grid_column": null,
            "overflow_y": null,
            "overflow_x": null,
            "grid_auto_flow": null,
            "grid_area": null,
            "grid_template_columns": null,
            "flex": null,
            "_model_name": "LayoutModel",
            "justify_items": null,
            "grid_row": null,
            "max_height": null,
            "align_content": null,
            "visibility": null,
            "align_self": null,
            "height": null,
            "min_height": null,
            "padding": null,
            "grid_auto_rows": null,
            "grid_gap": null,
            "max_width": null,
            "order": null,
            "_view_module_version": "1.2.0",
            "grid_template_areas": null,
            "object_position": null,
            "object_fit": null,
            "grid_auto_columns": null,
            "margin": null,
            "display": null,
            "left": null
          }
        }
      }
    }
  },
  "cells": [
    {
      "cell_type": "markdown",
      "metadata": {
        "id": "t90ctpFKHbx8",
        "colab_type": "text"
      },
      "source": [
        "## Setting"
      ]
    },
    {
      "cell_type": "code",
      "metadata": {
        "id": "NgjpgHZ8HaXa",
        "colab_type": "code",
        "colab": {
          "base_uri": "https://localhost:8080/",
          "height": 124
        },
        "outputId": "ac146079-f905-469a-ad33-62959cc9fdca"
      },
      "source": [
        "# drive mount & setting for TaPR package\n",
        "from google.colab import drive\n",
        "drive.mount('/content/drive')"
      ],
      "execution_count": 1,
      "outputs": [
        {
          "output_type": "stream",
          "text": [
            "Go to this URL in a browser: https://accounts.google.com/o/oauth2/auth?client_id=947318989803-6bn6qk8qdgf4n4g3pfee6491hc0brc4i.apps.googleusercontent.com&redirect_uri=urn%3aietf%3awg%3aoauth%3a2.0%3aoob&scope=email%20https%3a%2f%2fwww.googleapis.com%2fauth%2fdocs.test%20https%3a%2f%2fwww.googleapis.com%2fauth%2fdrive%20https%3a%2f%2fwww.googleapis.com%2fauth%2fdrive.photos.readonly%20https%3a%2f%2fwww.googleapis.com%2fauth%2fpeopleapi.readonly&response_type=code\n",
            "\n",
            "Enter your authorization code:\n",
            "··········\n",
            "Mounted at /content/drive\n"
          ],
          "name": "stdout"
        }
      ]
    },
    {
      "cell_type": "code",
      "metadata": {
        "id": "huNEIsDGHlfQ",
        "colab_type": "code",
        "colab": {
          "base_uri": "https://localhost:8080/",
          "height": 69
        },
        "outputId": "6d355c69-d9cd-492e-c827-419edb8dbfe7"
      },
      "source": [
        "!pip install '/content/drive/My Drive/data/eTaPR-1.12-py3-none-any.whl'"
      ],
      "execution_count": 2,
      "outputs": [
        {
          "output_type": "stream",
          "text": [
            "Processing ./drive/My Drive/data/eTaPR-1.12-py3-none-any.whl\n",
            "Installing collected packages: eTaPR\n",
            "Successfully installed eTaPR-1.12\n"
          ],
          "name": "stdout"
        }
      ]
    },
    {
      "cell_type": "code",
      "metadata": {
        "id": "BPFfwuyYHtJ8",
        "colab_type": "code",
        "colab": {}
      },
      "source": [
        "import sys\n",
        "\n",
        "from pathlib import Path\n",
        "from datetime import timedelta\n",
        "\n",
        "import dateutil\n",
        "import numpy as np\n",
        "import matplotlib.pyplot as plt\n",
        "import pandas as pd\n",
        "import torch\n",
        "\n",
        "from torch.utils.data import Dataset, DataLoader\n",
        "from tqdm.notebook import trange\n",
        "from TaPR_pkg import etapr\n",
        "\n",
        "HOME = '/content/drive/My Drive'"
      ],
      "execution_count": 3,
      "outputs": []
    },
    {
      "cell_type": "code",
      "metadata": {
        "id": "YN-ylK-fIHlC",
        "colab_type": "code",
        "colab": {}
      },
      "source": [
        "# functions\n",
        "def dataframe_from_csv(target):\n",
        "    return pd.read_csv(target).rename(columns=lambda x: x.strip())\n",
        "\n",
        "def dataframe_from_csvs(targets):\n",
        "    return pd.concat([dataframe_from_csv(x) for x in targets]) # added ignore_index"
      ],
      "execution_count": 4,
      "outputs": []
    },
    {
      "cell_type": "code",
      "metadata": {
        "id": "iSk1dK1YHxVe",
        "colab_type": "code",
        "colab": {
          "base_uri": "https://localhost:8080/",
          "height": 156
        },
        "outputId": "d6c8aace-692d-4e21-bc06-adbead495184"
      },
      "source": [
        "# data loading\n",
        "TRAIN_DATASET = sorted([x for x in Path(HOME +\"/data/training/\").glob(\"*.csv\")])\n",
        "TEST_DATASET = sorted([x for x in Path(HOME + \"/data/testing/\").glob(\"*.csv\")])\n",
        "VALIDATION_DATASET = sorted([x for x in Path(HOME + \"/data/validation/\").glob(\"*.csv\")])\n",
        "\n",
        "TRAIN_DATASET, TEST_DATASET, VALIDATION_DATASET"
      ],
      "execution_count": 5,
      "outputs": [
        {
          "output_type": "execute_result",
          "data": {
            "text/plain": [
              "([PosixPath('/content/drive/My Drive/data/training/train1.csv'),\n",
              "  PosixPath('/content/drive/My Drive/data/training/train2.csv'),\n",
              "  PosixPath('/content/drive/My Drive/data/training/train3.csv')],\n",
              " [PosixPath('/content/drive/My Drive/data/testing/test1.csv'),\n",
              "  PosixPath('/content/drive/My Drive/data/testing/test2.csv'),\n",
              "  PosixPath('/content/drive/My Drive/data/testing/test3.csv'),\n",
              "  PosixPath('/content/drive/My Drive/data/testing/test4.csv')],\n",
              " [PosixPath('/content/drive/My Drive/data/validation/validation.csv')])"
            ]
          },
          "metadata": {
            "tags": []
          },
          "execution_count": 5
        }
      ]
    },
    {
      "cell_type": "code",
      "metadata": {
        "id": "cBua2b-lIBag",
        "colab_type": "code",
        "colab": {}
      },
      "source": [
        "# data type to pandas DataFrame\n",
        "TRAIN_DATASET = dataframe_from_csvs(TRAIN_DATASET)\n",
        "TEST_DATASET = dataframe_from_csvs(TEST_DATASET)\n",
        "VALIDATION_DATASET = dataframe_from_csvs(VALIDATION_DATASET)"
      ],
      "execution_count": 6,
      "outputs": []
    },
    {
      "cell_type": "markdown",
      "metadata": {
        "id": "hHF6O_ZtknuD",
        "colab_type": "text"
      },
      "source": [
        "### FE"
      ]
    },
    {
      "cell_type": "code",
      "metadata": {
        "id": "cLfo4-Tkb44V",
        "colab_type": "code",
        "colab": {}
      },
      "source": [
        "# seasonality\n",
        "def season(df):\n",
        "  sdf = df.copy()\n",
        "  sdf['hour'] = sdf['time'].apply(lambda t : dateutil.parser.parse(t).hour)\n",
        "  sdf['min'] = sdf['time'].apply(lambda t : dateutil.parser.parse(t).minute)\n",
        "  sdf['weekday'] = sdf['time'].apply(lambda t : dateutil.parser.parse(t).weekday())\n",
        "  sdf['sec'] = sdf['time'].apply(lambda t : dateutil.parser.parse(t).second)\n",
        "  return sdf\n",
        "\n",
        "TRAIN_DATASET = season(TRAIN_DATASET)\n",
        "VALIDATION_DATASET = season(VALIDATION_DATASET)\n",
        "TEST_DATASET = season(TEST_DATASET)\n",
        "# TRAIN_DATASET.to_csv('s_train', index = False)\n",
        "# VALIDATION_DATASET.to_csv('s_val', index = False)\n",
        "# TEST_DATASET.to_csv('s_test', index = False)"
      ],
      "execution_count": 7,
      "outputs": []
    },
    {
      "cell_type": "markdown",
      "metadata": {
        "id": "h_-6jabwkw9S",
        "colab_type": "text"
      },
      "source": [
        "### Scaling"
      ]
    },
    {
      "cell_type": "code",
      "metadata": {
        "id": "CoFFpYSiIh31",
        "colab_type": "code",
        "colab": {}
      },
      "source": [
        "# normalizing\n",
        "STATE = TRAIN_DATASET.columns.drop(['time'])\n",
        "SEASONALITY = ['min', 'hour', 'sec', 'weekday']\n",
        "TAG_MIN, TAG_MAX = TRAIN_DATASET[STATE].min(), TRAIN_DATASET[STATE].max()\n",
        "\n",
        "def normalize(df):\n",
        "  ndf = df.copy()\n",
        "  for c in df.columns:\n",
        "      if TAG_MIN[c] == TAG_MAX[c]:\n",
        "          ndf[c] = df[c] - TAG_MIN[c]\n",
        "      else:\n",
        "          ndf[c] = (df[c] - TAG_MIN[c]) / (TAG_MAX[c] - TAG_MIN[c])\n",
        "  return ndf\n",
        "\n",
        "def normalize2(df):\n",
        "  ndf = df.copy()\n",
        "  for c in df.columns:\n",
        "    if TAG_MIN[c] == TAG_MAX[c]: # all things are same for this col in train data\n",
        "        ndf[c] = df[c] - TAG_MIN[c]\n",
        "        ndf[c] = ndf[c].apply(lambda x : x * 10 if x != 0 else x)\n",
        "    else:\n",
        "        ndf[c] = (df[c] - TAG_MIN[c]) / (TAG_MAX[c] - TAG_MIN[c])\n",
        "        ndf[c] = ndf[c].apply(lambda x : x * 5 if x < 0 else x)\n",
        "\n",
        "  return ndf\n",
        "\n",
        "# time = TRAIN_DATASET['time']\n",
        "train_df = normalize2(TRAIN_DATASET[STATE]).ewm(alpha = 0.7).mean()\n",
        "val_df = normalize2(VALIDATION_DATASET[STATE]).ewm(alpha = 0.7).mean()\n",
        "test_df = normalize2(TEST_DATASET[STATE]).ewm(alpha = 0.7).mean()"
      ],
      "execution_count": 10,
      "outputs": []
    },
    {
      "cell_type": "code",
      "metadata": {
        "id": "2eB4GMECprJ2",
        "colab_type": "code",
        "colab": {
          "base_uri": "https://localhost:8080/",
          "height": 69
        },
        "outputId": "91e3e8f2-f440-4b48-9525-a6d72f23e4de"
      },
      "source": [
        "def boundary_check(df):\n",
        "  '''\n",
        "  check dataframe\n",
        "  (F, F, F) for training data set\n",
        "  third should be F for others, too.  \n",
        "  '''\n",
        "  x = np.array(df, dtype = np.float32)\n",
        "  return np.any(x > 1.0), np.any(x < 0), np.any(np.isnan(x))\n",
        "\n",
        "display(boundary_check(train_df))\n",
        "display(boundary_check(val_df))\n",
        "display(boundary_check(test_df))"
      ],
      "execution_count": 11,
      "outputs": [
        {
          "output_type": "display_data",
          "data": {
            "text/plain": [
              "(False, False, False)"
            ]
          },
          "metadata": {
            "tags": []
          }
        },
        {
          "output_type": "display_data",
          "data": {
            "text/plain": [
              "(True, True, False)"
            ]
          },
          "metadata": {
            "tags": []
          }
        },
        {
          "output_type": "display_data",
          "data": {
            "text/plain": [
              "(True, True, False)"
            ]
          },
          "metadata": {
            "tags": []
          }
        }
      ]
    },
    {
      "cell_type": "markdown",
      "metadata": {
        "id": "lSn8E8LeQQpv",
        "colab_type": "text"
      },
      "source": [
        "## Make Datatset"
      ]
    },
    {
      "cell_type": "code",
      "metadata": {
        "id": "5ebXBLDyP9fW",
        "colab_type": "code",
        "colab": {}
      },
      "source": [
        "WINDOW_SIZE = 50\n",
        "# WINDOW_GIVEN = 50 # autoencoder\n",
        "WINDOW_GIVEN = 49\n",
        "\n",
        "\n",
        "class HaiDataset(Dataset):\n",
        "    def __init__(self, timestamps, df, stride=1, attacks=None, auto = False):\n",
        "        self.ts = np.array(timestamps)\n",
        "        self.tag_values = np.array(df, dtype=np.float32)\n",
        "        self.valid_idxs = []\n",
        "        self.auto = auto\n",
        "        for L in trange(len(self.ts) - WINDOW_SIZE + 1):\n",
        "            R = L + WINDOW_SIZE - 1\n",
        "            if dateutil.parser.parse(self.ts[R]) - dateutil.parser.parse(\n",
        "                self.ts[L]\n",
        "            ) == timedelta(seconds=WINDOW_SIZE - 1):\n",
        "                self.valid_idxs.append(L)\n",
        "        self.valid_idxs = np.array(self.valid_idxs, dtype=np.int32)[::stride]\n",
        "        self.n_idxs = len(self.valid_idxs)\n",
        "        print(f\"# of valid windows: {self.n_idxs}\")\n",
        "        if attacks is not None:\n",
        "            self.attacks = np.array(attacks, dtype=np.float32)\n",
        "            self.with_attack = True\n",
        "        else:\n",
        "            self.with_attack = False\n",
        "\n",
        "    def __len__(self):\n",
        "        return self.n_idxs\n",
        "\n",
        "    def __getitem__(self, idx):\n",
        "        i = self.valid_idxs[idx]\n",
        "        last = i + WINDOW_SIZE - 1\n",
        "        item = {\"attack\": self.attacks[last]} if self.with_attack else {}\n",
        "        item[\"ts\"] = self.ts[i + WINDOW_SIZE - 1]\n",
        "        item[\"given\"] = torch.from_numpy(self.tag_values[i : i + WINDOW_GIVEN])\n",
        "        if self.auto:\n",
        "          item[\"answer\"] = torch.from_numpy(self.tag_values[i : i + WINDOW_GIVEN, :79])\n",
        "        else:\n",
        "          item[\"answer\"] = torch.from_numpy(self.tag_values[last][:79])\n",
        "        return item"
      ],
      "execution_count": 14,
      "outputs": []
    },
    {
      "cell_type": "code",
      "metadata": {
        "id": "Mw27C_69RZT1",
        "colab_type": "code",
        "colab": {
          "base_uri": "https://localhost:8080/",
          "height": 217,
          "referenced_widgets": [
            "d1588a01b9b94393ae52de39a18f216c",
            "48d1383f24cd4c8cb30556a3f3a65dd2",
            "f4ff0c04aa98467880605c3b0170f704",
            "1cb58504484047648040702d8651019b",
            "54638aed5b2e4854bfcef8dd6f552bfe",
            "f39154e8e9d84e33a743f1d45f6bee31",
            "8ad0f0b7c79d4b99aa43a9028875921d",
            "dca7e8eea9c9400cb29848c909d065d0",
            "4b9f8028155a4586a9f9f933e9935ac7",
            "81bfead4d36a45f8ae74d79a74a2f125",
            "88f3574433fa430d8dc6fc51c54a777b",
            "d5e0a946efa24e039da1b67523a890f6",
            "7db68bd72c464f5588097f2f75c0657d",
            "b18fc8300364404ba0f5516372d50581",
            "f74c3a3433384fcaab56446ebdfeabd3",
            "1659e80abbd747e9b393c811c07821e9",
            "a446035bc8664144a801c5e4958a497a",
            "b6af82d0a1424069a8185c2dbee9a002",
            "ff392080ca804fff99ec6aace321a87f",
            "9d14fa5c55394ae09605c9fa2e8639e4",
            "b16292dd1683481fad53aebc4ccc2559",
            "95d7abe5b04843baa30b6671f88267de",
            "124e1161cf2545a3983098d0ba7ff662",
            "f248a58244c942088d9d98a34b23423f"
          ]
        },
        "outputId": "a51e240b-e852-480f-ecb4-b45097ad2d8b"
      },
      "source": [
        "#lstm, gru\n",
        "HAI_TRAIN = HaiDataset(TRAIN_DATASET['time'], train_df, stride = 10)\n",
        "HAI_VAL = HaiDataset(VALIDATION_DATASET['time'], val_df, attacks = VALIDATION_DATASET['attack'])\n",
        "HAI_TEST = HaiDataset(TEST_DATASET['time'], test_df, stride = 1)\n",
        "\n",
        "# # autoencoder\n",
        "# HAI_TRAIN = HaiDataset(TRAIN_DATASET['time'], train_df, stride = 10, auto = True)\n",
        "# HAI_VAL = HaiDataset(VALIDATION_DATASET['time'], val_df, attacks = VALIDATION_DATASET['attack'], auto = True)\n",
        "# HAI_TEST = HaiDataset(TEST_DATASET['time'], test_df, stride = 1, auto = True)"
      ],
      "execution_count": 15,
      "outputs": [
        {
          "output_type": "display_data",
          "data": {
            "application/vnd.jupyter.widget-view+json": {
              "model_id": "d1588a01b9b94393ae52de39a18f216c",
              "version_minor": 0,
              "version_major": 2
            },
            "text/plain": [
              "HBox(children=(FloatProgress(value=0.0, max=921554.0), HTML(value='')))"
            ]
          },
          "metadata": {
            "tags": []
          }
        },
        {
          "output_type": "stream",
          "text": [
            "\n",
            "# of valid windows: 92146\n"
          ],
          "name": "stdout"
        },
        {
          "output_type": "display_data",
          "data": {
            "application/vnd.jupyter.widget-view+json": {
              "model_id": "4b9f8028155a4586a9f9f933e9935ac7",
              "version_minor": 0,
              "version_major": 2
            },
            "text/plain": [
              "HBox(children=(FloatProgress(value=0.0, max=43152.0), HTML(value='')))"
            ]
          },
          "metadata": {
            "tags": []
          }
        },
        {
          "output_type": "stream",
          "text": [
            "\n",
            "# of valid windows: 43152\n"
          ],
          "name": "stdout"
        },
        {
          "output_type": "display_data",
          "data": {
            "application/vnd.jupyter.widget-view+json": {
              "model_id": "a446035bc8664144a801c5e4958a497a",
              "version_minor": 0,
              "version_major": 2
            },
            "text/plain": [
              "HBox(children=(FloatProgress(value=0.0, max=358755.0), HTML(value='')))"
            ]
          },
          "metadata": {
            "tags": []
          }
        },
        {
          "output_type": "stream",
          "text": [
            "\n",
            "# of valid windows: 358608\n"
          ],
          "name": "stdout"
        }
      ]
    },
    {
      "cell_type": "code",
      "metadata": {
        "id": "6szPzaX7G1Wn",
        "colab_type": "code",
        "colab": {
          "base_uri": "https://localhost:8080/",
          "height": 854
        },
        "outputId": "b3edd430-bcf2-47af-b8cd-9047faf69011"
      },
      "source": [
        "display(HAI_TRAIN[0]['answer'].shape)\n",
        "display(HAI_VAL[0])\n",
        "display(HAI_TEST[0])"
      ],
      "execution_count": 17,
      "outputs": [
        {
          "output_type": "display_data",
          "data": {
            "text/plain": [
              "torch.Size([79])"
            ]
          },
          "metadata": {
            "tags": []
          }
        },
        {
          "output_type": "display_data",
          "data": {
            "text/plain": [
              "{'answer': tensor([4.9954e-01, 0.0000e+00, 0.0000e+00, 1.6202e-01, 4.6450e-01, 3.0644e-04,\n",
              "         4.3917e-01, 4.4026e-01, 4.6865e-03, 5.6447e-01, 4.8191e-01, 8.2050e-01,\n",
              "         2.6947e-01, 0.0000e+00, 4.3469e-01, 4.3588e-01, 1.1335e-03, 0.0000e+00,\n",
              "         0.0000e+00, 5.4356e-01, 0.0000e+00, 0.0000e+00, 8.6986e-01, 7.7424e-01,\n",
              "         0.0000e+00, 3.6854e-01, 3.2757e-01, 0.0000e+00, 5.6877e-01, 3.0729e-02,\n",
              "         9.9020e-01, 3.3413e-01, 0.0000e+00, 0.0000e+00, 0.0000e+00, 1.0000e+00,\n",
              "         0.0000e+00, 4.1100e-01, 5.7950e-01, 0.0000e+00, 9.9908e-01, 2.5674e-04,\n",
              "         0.0000e+00, 4.8395e-01, 3.9548e-01, 4.7232e-01, 6.4028e-01, 0.0000e+00,\n",
              "         4.4081e-01, 8.7856e-01, 0.0000e+00, 0.0000e+00, 5.8044e-01, 1.0000e+00,\n",
              "         1.6340e-01, 9.9398e-01, 4.8920e-02, 9.0516e-01, 0.0000e+00, 9.9472e-01,\n",
              "         0.0000e+00, 4.6317e-01, 0.0000e+00, 0.0000e+00, 0.0000e+00, 2.7818e-01,\n",
              "         0.0000e+00, 9.9751e-01, 3.7123e-01, 6.1020e-01, 0.0000e+00, 3.4748e-01,\n",
              "         2.8305e-01, 8.9393e-02, 1.7803e+00, 5.4089e-01, 5.4120e-01, 5.2712e-01,\n",
              "         4.0138e-01]),\n",
              " 'attack': 0.0,\n",
              " 'given': tensor([[0.4516, 0.0000, 0.0000,  ..., 0.0000, 0.1667, 0.0000],\n",
              "         [0.4523, 0.0000, 0.0000,  ..., 0.0000, 0.1667, 0.0130],\n",
              "         [0.4522, 0.0000, 0.0000,  ..., 0.0000, 0.1667, 0.0280],\n",
              "         ...,\n",
              "         [0.4975, 0.0000, 0.0000,  ..., 0.0000, 0.1667, 0.7724],\n",
              "         [0.4972, 0.0000, 0.0000,  ..., 0.0000, 0.1667, 0.7893],\n",
              "         [0.4985, 0.0000, 0.0000,  ..., 0.0000, 0.1667, 0.8063]]),\n",
              " 'ts': '2020-07-07 15:00:49'}"
            ]
          },
          "metadata": {
            "tags": []
          }
        },
        {
          "output_type": "display_data",
          "data": {
            "text/plain": [
              "{'answer': tensor([ 2.4972e-01,  0.0000e+00,  0.0000e+00,  8.2833e-01,  3.9230e-01,\n",
              "          9.9898e-04,  3.7717e-01,  4.8567e-01,  7.0018e-03,  5.7541e-01,\n",
              "          5.2354e-01,  5.2156e-01,  7.8484e-01,  0.0000e+00,  8.8953e-01,\n",
              "          1.5960e-01, -3.5712e-05,  0.0000e+00,  0.0000e+00,  3.5843e-01,\n",
              "          0.0000e+00,  0.0000e+00,  3.3384e-01,  9.5306e-01,  0.0000e+00,\n",
              "          8.7264e-01,  4.7043e-01,  0.0000e+00,  4.1592e-01,  9.4195e-02,\n",
              "          9.8930e-01,  3.3413e-01,  0.0000e+00,  0.0000e+00,  0.0000e+00,\n",
              "          1.0000e+00,  0.0000e+00,  9.8564e-01,  3.5247e-01,  0.0000e+00,\n",
              "          9.8274e-01, -1.2838e-03,  0.0000e+00,  5.3050e-01,  4.6038e-01,\n",
              "          6.0833e-01,  5.3065e-01,  0.0000e+00,  3.7409e-01,  3.6512e-01,\n",
              "          0.0000e+00,  0.0000e+00,  5.9305e-01,  9.8108e-01,  8.5273e-01,\n",
              "          9.9138e-01,  4.8776e-02,  6.1891e-01,  0.0000e+00,  9.9070e-01,\n",
              "          0.0000e+00,  3.9650e-01,  0.0000e+00,  0.0000e+00,  0.0000e+00,\n",
              "          7.7405e-01,  0.0000e+00,  9.5539e-01,  6.6462e-01,  6.6309e-01,\n",
              "          0.0000e+00,  3.3737e-01,  4.7186e-01,  2.3458e-01,  9.4444e-01,\n",
              "          3.6394e-01,  3.3115e-01,  2.6162e-01,  4.9985e-01]),\n",
              " 'given': tensor([[0.2737, 0.0000, 0.0000,  ..., 0.0000, 0.5000, 0.0000],\n",
              "         [0.2737, 0.0000, 0.0000,  ..., 0.0000, 0.5000, 0.0130],\n",
              "         [0.2730, 0.0000, 0.0000,  ..., 0.0000, 0.5000, 0.0280],\n",
              "         ...,\n",
              "         [0.2510, 0.0000, 0.0000,  ..., 0.0000, 0.5000, 0.7724],\n",
              "         [0.2503, 0.0000, 0.0000,  ..., 0.0000, 0.5000, 0.7893],\n",
              "         [0.2491, 0.0000, 0.0000,  ..., 0.0000, 0.5000, 0.8063]]),\n",
              " 'ts': '2020-07-09 15:00:49'}"
            ]
          },
          "metadata": {
            "tags": []
          }
        }
      ]
    },
    {
      "cell_type": "markdown",
      "metadata": {
        "id": "_TnS0seiUoSc",
        "colab_type": "text"
      },
      "source": [
        "## Model"
      ]
    },
    {
      "cell_type": "markdown",
      "metadata": {
        "id": "PkBl95dojEDj",
        "colab_type": "text"
      },
      "source": [
        "### Setting"
      ]
    },
    {
      "cell_type": "code",
      "metadata": {
        "id": "0dZICbQCSGd3",
        "colab_type": "code",
        "colab": {}
      },
      "source": [
        "#constants\n",
        "N_HIDDENS = 50\n",
        "N_LAYERS = 3\n",
        "BATCH_SIZE = 128"
      ],
      "execution_count": 18,
      "outputs": []
    },
    {
      "cell_type": "code",
      "metadata": {
        "id": "-bV_gxBXxvFv",
        "colab_type": "code",
        "colab": {}
      },
      "source": [
        "#train function\n",
        "def train(dataset, model, batch_size, n_epochs):\n",
        "    dataloader = DataLoader(dataset, batch_size=batch_size, shuffle=True)\n",
        "    optimizer = torch.optim.AdamW(model.parameters())\n",
        "    loss_fn = torch.nn.MSELoss()\n",
        "    #loss_fn = torch.nn.L1Loss() #mae\n",
        "    epochs = trange(n_epochs, desc=\"training\")\n",
        "    best = {\"loss\": sys.float_info.max}\n",
        "    loss_history = []\n",
        "    for e in epochs:\n",
        "        epoch_loss = 0\n",
        "        for batch in dataloader:\n",
        "            optimizer.zero_grad()\n",
        "            given = batch[\"given\"].cuda()\n",
        "            guess = model(given)\n",
        "            answer = batch[\"answer\"].cuda()\n",
        "            loss = loss_fn(answer, guess)\n",
        "            loss.backward()\n",
        "            epoch_loss += loss.item()\n",
        "            optimizer.step()\n",
        "        loss_history.append(epoch_loss)\n",
        "        epochs.set_postfix_str(f\"loss: {epoch_loss:.6f}\")\n",
        "        if epoch_loss < best[\"loss\"]:\n",
        "            best[\"state\"] = model.state_dict()\n",
        "            best[\"loss\"] = epoch_loss\n",
        "            best[\"epoch\"] = e + 1\n",
        "    return best, loss_history"
      ],
      "execution_count": 19,
      "outputs": []
    },
    {
      "cell_type": "markdown",
      "metadata": {
        "id": "hSNiUdgPYOmI",
        "colab_type": "text"
      },
      "source": [
        "### stacked RNN"
      ]
    },
    {
      "cell_type": "code",
      "metadata": {
        "id": "ce4UUpclU051",
        "colab_type": "code",
        "colab": {}
      },
      "source": [
        "#definitions of models\n",
        "class StackedGRU(torch.nn.Module):\n",
        "    def __init__(self, n_tags):\n",
        "        super().__init__()\n",
        "        self.rnn1 = torch.nn.GRU(\n",
        "            input_size=n_tags,\n",
        "            hidden_size=N_HIDDENS,\n",
        "            num_layers=N_LAYERS,\n",
        "            bidirectional=True,\n",
        "            dropout=0.2,\n",
        "        )\n",
        "        self.rnn2 = torch.nn.GRU(\n",
        "            input_size=N_HIDDENS * 2,\n",
        "            hidden_size=N_HIDDENS * 2,\n",
        "            num_layers=1,\n",
        "            bidirectional=False,\n",
        "            dropout=0,\n",
        "        )\n",
        "        self.fc = torch.nn.Linear(N_HIDDENS * 2, n_tags - 4)\n",
        "        self.activation = torch.nn.LeakyReLU(0.2) #added\n",
        "\n",
        "    def forward(self, x):\n",
        "        x = x.transpose(0, 1)  # (batch, seq, params) -> (seq, batch, params)\n",
        "        self.rnn1.flatten_parameters()\n",
        "        self.rnn2.flatten_parameters()\n",
        "        outs, _ = self.rnn1(x)\n",
        "        outs, _ = self.rnn2(outs)\n",
        "        out = self.fc(outs[-1])\n",
        "        return self.activation(x[0][:, :79] + out)\n",
        "\n",
        "class StackedLSTM(torch.nn.Module):\n",
        "  def __init__(self, n_tags):\n",
        "    super().__init__()\n",
        "    self.lstm = torch.nn.LSTM(\n",
        "        input_size = n_tags,\n",
        "        hidden_size = N_HIDDENS,\n",
        "        num_layers = N_LAYERS,\n",
        "        bidirectional = True,\n",
        "        dropout = 0\n",
        "    )\n",
        "    self.fc = torch.nn.Linear(N_HIDDENS * 2, n_tags)\n",
        "    self.activation = torch.nn.LeakyReLU(0.2) #added\n",
        "\n",
        "  def forward(self, x):\n",
        "    x = x.transpose(0, 1)\n",
        "    self.lstm.flatten_parameters()\n",
        "    outs, _ = self.lstm(x)\n",
        "    out = self.fc(outs[-1])\n",
        "    return self.activation(x[0] + out) #skip connection"
      ],
      "execution_count": 38,
      "outputs": []
    },
    {
      "cell_type": "markdown",
      "metadata": {
        "id": "qNICEMlUYSLy",
        "colab_type": "text"
      },
      "source": [
        "### AutoEncoder"
      ]
    },
    {
      "cell_type": "code",
      "metadata": {
        "id": "6ShW1YwDYTSP",
        "colab_type": "code",
        "colab": {}
      },
      "source": [
        "class TimeDistributed(torch.nn.Module):\n",
        "  def __init__(self, module, batch_first = False):\n",
        "    super().__init__()\n",
        "    self.module = module\n",
        "    self.batch_first = batch_first # shape of x\n",
        "\n",
        "  def forward(self, x):\n",
        "    if len(x.size()) <= 2:\n",
        "      return self.module(x)\n",
        "    y = self.module(x.contiguous().view(-1, x.size(-1)))\n",
        "    if self.batch_first:\n",
        "      y = y.contiguous().view(x.size(0), -1, y.size(-1))\n",
        "    else:\n",
        "      y = y.contiguous().view(-1, x.size(1), y.size(-1))\n",
        "    return y #shape : (batch, seq, features)\n",
        "\n",
        "class Encoder(torch.nn.Module):\n",
        "  def __init__(self, seq_len, n_features, embedding_dim = 64):\n",
        "    super().__init__()\n",
        "    self.embedding_dim = embedding_dim\n",
        "    self.seq_len = seq_len\n",
        "    self.n_features = n_features\n",
        "    self.rnn1 = torch.nn.GRU(\n",
        "        input_size=self.n_features,\n",
        "        hidden_size=self.embedding_dim,\n",
        "        num_layers=2,\n",
        "        bidirectional=True,\n",
        "        batch_first = True,\n",
        "        dropout = 0.3\n",
        "    )\n",
        "    self.rnn2 = torch.nn.GRU(\n",
        "        input_size = self.embedding_dim * 2,\n",
        "        hidden_size = self.embedding_dim // 2,\n",
        "        num_layers = 1,\n",
        "        bidirectional = True,\n",
        "        batch_first = True,\n",
        "        dropout = 0.3\n",
        "    )\n",
        "\n",
        "  def forward(self, x):\n",
        "    x, _ = self.rnn1(x)\n",
        "    x, _ = self.rnn2(x)\n",
        "    return x[:, -1, :] # get last sample -> shape of (seq len, 1, embedding_dim)\n",
        "\n",
        "class Decoder(torch.nn.Module):\n",
        "  def __init__(self, seq_len, n_features, embedding_dim):\n",
        "    super().__init__()\n",
        "    self.embedding_dim = embedding_dim\n",
        "    self.seq_len = seq_len\n",
        "    self.n_features = n_features\n",
        "    self.rnn = torch.nn.GRU(\n",
        "        input_size = self.embedding_dim,\n",
        "        hidden_size = self.embedding_dim//2,\n",
        "        num_layers = 4,\n",
        "        bidirectional = True,\n",
        "        batch_first = True,\n",
        "        dropout = 0.3\n",
        "    )\n",
        "    self.output_layer = torch.nn.Linear(self.embedding_dim, self.n_features)\n",
        "    self.timedist = TimeDistributed(self.output_layer)\n",
        "\n",
        "  def forward(self, x):\n",
        "    x = x.reshape(-1, 1, self.embedding_dim).repeat(1, self.seq_len, 1)\n",
        "    x, _ = self.rnn(x)\n",
        "    return self.timedist(x)\n",
        "\n",
        "class RecurrentAutoencoder(torch.nn.Module): # embedding dim should be even\n",
        "  def __init__(self, seq_len, n_features, embedding_dim):\n",
        "    super().__init__()\n",
        "    self.encoder = Encoder(seq_len, n_features, embedding_dim)\n",
        "    self.decoder = Decoder(seq_len, n_features, embedding_dim)\n",
        "  \n",
        "  def forward(self, x):\n",
        "    x = self.encoder(x)\n",
        "    x = self.decoder(x)\n",
        "    return x"
      ],
      "execution_count": 81,
      "outputs": []
    },
    {
      "cell_type": "markdown",
      "metadata": {
        "id": "nSI-I15fxGeu",
        "colab_type": "text"
      },
      "source": [
        "## Train !"
      ]
    },
    {
      "cell_type": "code",
      "metadata": {
        "id": "-mdnba3kxF-t",
        "colab_type": "code",
        "colab": {
          "base_uri": "https://localhost:8080/",
          "height": 121
        },
        "outputId": "36d21034-d261-4178-9ddc-751594af4e8e"
      },
      "source": [
        "# MODEL = RecurrentAutoencoder(seq_len = WINDOW_SIZE, n_features = 79, embedding_dim = N_HIDDENS)\n",
        "MODEL = StackedGRU(n_tags = 79 + 4)\n",
        "# MODEL = StackedLSTM(n_tags = 79)\n",
        "\n",
        "MODEL.cuda()"
      ],
      "execution_count": 39,
      "outputs": [
        {
          "output_type": "execute_result",
          "data": {
            "text/plain": [
              "StackedGRU(\n",
              "  (rnn1): GRU(83, 50, num_layers=3, dropout=0.2, bidirectional=True)\n",
              "  (rnn2): GRU(100, 100)\n",
              "  (fc): Linear(in_features=100, out_features=79, bias=True)\n",
              "  (activation): LeakyReLU(negative_slope=0.2)\n",
              ")"
            ]
          },
          "metadata": {
            "tags": []
          },
          "execution_count": 39
        }
      ]
    },
    {
      "cell_type": "code",
      "metadata": {
        "id": "NGoVubFLx_Hj",
        "colab_type": "code",
        "colab": {
          "base_uri": "https://localhost:8080/",
          "height": 101,
          "referenced_widgets": [
            "4f9fa9065e0249a0a82ab2c3c4e4dbf7",
            "e1321a16f5e748febc6c3bba9b99df84",
            "92924f0ed1bf4a12b7ff6872c6d342d9",
            "e1c40ba0be5f417fbac0eb329eb734a3",
            "2a477c9a920943f395d6e8d9be4bf28f",
            "3f5ed0e4a67b413a8c53a366b50e9e0a",
            "1e27ae8746e7438b8a1447e9b00079fe",
            "421572d3587f481697b5312807f41cc2"
          ]
        },
        "outputId": "0733ef94-5931-4c28-e65e-e54a23b2a81d"
      },
      "source": [
        "%%time\n",
        "MODEL.train()\n",
        "BEST_MODEL, LOSS_HISTORY = train(HAI_TRAIN, MODEL, BATCH_SIZE, 50) # change : epoch"
      ],
      "execution_count": 40,
      "outputs": [
        {
          "output_type": "display_data",
          "data": {
            "application/vnd.jupyter.widget-view+json": {
              "model_id": "4f9fa9065e0249a0a82ab2c3c4e4dbf7",
              "version_minor": 0,
              "version_major": 2
            },
            "text/plain": [
              "HBox(children=(FloatProgress(value=0.0, description='training', max=50.0, style=ProgressStyle(description_widt…"
            ]
          },
          "metadata": {
            "tags": []
          }
        },
        {
          "output_type": "stream",
          "text": [
            "\n",
            "CPU times: user 40min 47s, sys: 16min 1s, total: 56min 49s\n",
            "Wall time: 56min 57s\n"
          ],
          "name": "stdout"
        }
      ]
    },
    {
      "cell_type": "code",
      "metadata": {
        "id": "7Zgn9kVDymBO",
        "colab_type": "code",
        "colab": {
          "base_uri": "https://localhost:8080/",
          "height": 34
        },
        "outputId": "6d7682cf-3cf2-4db2-d042-80a029012302"
      },
      "source": [
        "BEST_MODEL[\"loss\"], BEST_MODEL[\"epoch\"]"
      ],
      "execution_count": 41,
      "outputs": [
        {
          "output_type": "execute_result",
          "data": {
            "text/plain": [
              "(0.2248029037436936, 50)"
            ]
          },
          "metadata": {
            "tags": []
          },
          "execution_count": 41
        }
      ]
    },
    {
      "cell_type": "code",
      "metadata": {
        "id": "8kPRAEWLytfU",
        "colab_type": "code",
        "colab": {}
      },
      "source": [
        "with open(\"new_gru.pt\", \"wb\") as f:\n",
        "  torch.save(\n",
        "            {\n",
        "          \"state\": BEST_MODEL[\"state\"],\n",
        "          \"best_epoch\": BEST_MODEL[\"epoch\"],\n",
        "          \"loss_history\": LOSS_HISTORY,\n",
        "      },\n",
        "      f,\n",
        "  )"
      ],
      "execution_count": 42,
      "outputs": []
    },
    {
      "cell_type": "code",
      "metadata": {
        "id": "tMvSUs7d6azw",
        "colab_type": "code",
        "colab": {
          "base_uri": "https://localhost:8080/",
          "height": 295
        },
        "outputId": "2b48af5b-b2c9-4c90-c303-9c08d0bfee4e"
      },
      "source": [
        "# check loss\n",
        "plt.figure(figsize=(16, 4))\n",
        "plt.title(\"Training Loss Graph\")\n",
        "plt.xlabel(\"epochs\")\n",
        "plt.ylabel(\"loss\")\n",
        "plt.yscale(\"log\")\n",
        "plt.plot(LOSS_HISTORY)\n",
        "plt.show()"
      ],
      "execution_count": 43,
      "outputs": [
        {
          "output_type": "display_data",
          "data": {
            "image/png": "[encoded data removed]",
            "text/plain": [
              "<Figure size 1152x288 with 1 Axes>"
            ]
          },
          "metadata": {
            "tags": [],
            "needs_background": "light"
          }
        }
      ]
    },
    {
      "cell_type": "markdown",
      "metadata": {
        "id": "4jbujm2vzOue",
        "colab_type": "text"
      },
      "source": [
        "## Validation"
      ]
    },
    {
      "cell_type": "code",
      "metadata": {
        "id": "lquN0vHJzCSe",
        "colab_type": "code",
        "colab": {
          "base_uri": "https://localhost:8080/",
          "height": 34
        },
        "outputId": "ff53bc4b-b960-441e-d9f5-ff8a3ef415d9"
      },
      "source": [
        "# load model\n",
        "with open(\"/content/new_gru.pt\", \"rb\") as f:\n",
        "    SAVED_MODEL = torch.load(f)\n",
        "\n",
        "MODEL.load_state_dict(SAVED_MODEL[\"state\"])"
      ],
      "execution_count": 44,
      "outputs": [
        {
          "output_type": "execute_result",
          "data": {
            "text/plain": [
              "<All keys matched successfully>"
            ]
          },
          "metadata": {
            "tags": []
          },
          "execution_count": 44
        }
      ]
    },
    {
      "cell_type": "code",
      "metadata": {
        "id": "TVOhnup55g9M",
        "colab_type": "code",
        "colab": {}
      },
      "source": [
        "def inference(dataset, model, batch_size):\n",
        "    dataloader = DataLoader(dataset, batch_size=batch_size)\n",
        "    ts, dist, att = [], [], []\n",
        "    with torch.no_grad():\n",
        "        for batch in dataloader:\n",
        "            given = batch[\"given\"].cuda()\n",
        "            answer = batch[\"answer\"].cuda()\n",
        "            guess = model(given)\n",
        "            ts.append(np.array(batch[\"ts\"]))\n",
        "            dist.append(torch.abs(answer - guess).cpu().numpy())\n",
        "            # dist.append(np.mean(torch.abs(answer - guess).cpu().numpy(), axis = 1)) #autoencoder\n",
        "            try:\n",
        "                att.append(np.array(batch[\"attack\"]))\n",
        "            except:\n",
        "                att.append(np.zeros(batch_size))\n",
        "            \n",
        "    return (\n",
        "        np.concatenate(ts),\n",
        "        np.concatenate(dist),\n",
        "        np.concatenate(att),\n",
        "    )\n",
        "\n",
        "def check_graph(xs, att, piece=2, THRESHOLD=None):\n",
        "    l = xs.shape[0]\n",
        "    chunk = l // piece\n",
        "    fig, axs = plt.subplots(piece, figsize=(20, 6 * piece))\n",
        "    # plt.ylim(0.01, 0.1)\n",
        "    for i in range(piece):\n",
        "        L = i * chunk\n",
        "        R = min(L + chunk, l)\n",
        "        xticks = range(L, R)\n",
        "        axs[i].plot(xticks, xs[L:R])\n",
        "        if len(xs[L:R]) > 0:\n",
        "            peak = max(xs[L:R])\n",
        "            axs[i].plot(xticks, att[L:R] * peak * 0.3)\n",
        "        if THRESHOLD!=None:\n",
        "            axs[i].axhline(y=THRESHOLD, color='r')\n",
        "    plt.show()\n",
        "\n",
        "def put_labels(distance, threshold):\n",
        "    xs = np.zeros_like(distance)\n",
        "    xs[distance > threshold] = 1\n",
        "    return xs\n",
        "\n",
        "def fill_blank(check_ts, labels, total_ts):\n",
        "    def ts_generator():\n",
        "        for t in total_ts:\n",
        "            yield dateutil.parser.parse(t)\n",
        "\n",
        "    def label_generator():\n",
        "        for t, label in zip(check_ts, labels):\n",
        "            yield dateutil.parser.parse(t), label\n",
        "\n",
        "    g_ts = ts_generator()\n",
        "    g_label = label_generator()\n",
        "    final_labels = []\n",
        "\n",
        "    try:\n",
        "        current = next(g_ts)\n",
        "        ts_label, label = next(g_label)\n",
        "        prev = label # added\n",
        "        while True:\n",
        "            if current > ts_label:\n",
        "              ts_label, label = next(g_label)\n",
        "              continue\n",
        "            elif current < ts_label:\n",
        "              if ts_label - current <= timedelta(seconds=2): #added. 2초 전이라면 0대신에 해당 라벨을 add.\n",
        "                final_labels.append(label) # added\n",
        "              else:\n",
        "                final_labels.append(0)\n",
        "              current = next(g_ts)\n",
        "              continue\n",
        "            final_labels.append(label)\n",
        "            prev = label\n",
        "            current = next(g_ts)\n",
        "            ts_label, label = next(g_label)\n",
        "    except StopIteration:\n",
        "        return np.array(final_labels, dtype=np.int8)"
      ],
      "execution_count": 58,
      "outputs": []
    },
    {
      "cell_type": "code",
      "metadata": {
        "id": "KinvkCOU2l7p",
        "colab_type": "code",
        "colab": {
          "base_uri": "https://localhost:8080/",
          "height": 52
        },
        "outputId": "a3b1f213-743c-464f-dfcb-82c470731372"
      },
      "source": [
        "%%time\n",
        "MODEL.eval()\n",
        "CHECK_TS, CHECK_DIST, CHECK_ATT = inference(HAI_VAL, MODEL, BATCH_SIZE)"
      ],
      "execution_count": 46,
      "outputs": [
        {
          "output_type": "stream",
          "text": [
            "CPU times: user 6.59 s, sys: 1.88 s, total: 8.48 s\n",
            "Wall time: 8.49 s\n"
          ],
          "name": "stdout"
        }
      ]
    },
    {
      "cell_type": "code",
      "metadata": {
        "id": "6-nGYGZj3oJR",
        "colab_type": "code",
        "colab": {
          "base_uri": "https://localhost:8080/",
          "height": 34
        },
        "outputId": "b97f9737-d85a-4695-89e0-4dc16c605f46"
      },
      "source": [
        "CHECK_DIST.shape #(43112, 79)"
      ],
      "execution_count": 47,
      "outputs": [
        {
          "output_type": "execute_result",
          "data": {
            "text/plain": [
              "(43152, 79)"
            ]
          },
          "metadata": {
            "tags": []
          },
          "execution_count": 47
        }
      ]
    },
    {
      "cell_type": "code",
      "metadata": {
        "id": "9m3j5Y8Y4hlC",
        "colab_type": "code",
        "colab": {
          "base_uri": "https://localhost:8080/",
          "height": 34
        },
        "outputId": "03125a89-e97f-44f8-9a82-b730ac129940"
      },
      "source": [
        "ANOMALY_SCORE = np.mean(CHECK_DIST, axis=1)\n",
        "ANOMALY_SCORE.shape #(43112,)"
      ],
      "execution_count": 48,
      "outputs": [
        {
          "output_type": "execute_result",
          "data": {
            "text/plain": [
              "(43152,)"
            ]
          },
          "metadata": {
            "tags": []
          },
          "execution_count": 48
        }
      ]
    },
    {
      "cell_type": "code",
      "metadata": {
        "id": "iRxcAtXak6Ff",
        "colab_type": "code",
        "colab": {}
      },
      "source": [
        "# def new_anomaly(dist):\n",
        "#   prev = dist[0]\n",
        "#   anomaly = []\n",
        "#   for e in dist:\n",
        "#     anomaly.append(np.abs(prev - e))\n",
        "#     prev = e\n",
        "#   return np.array(anomaly)\n",
        "\n",
        "# ANOMALY_SCORE = new_anomaly(ANOMALY_SCORE)"
      ],
      "execution_count": 53,
      "outputs": []
    },
    {
      "cell_type": "code",
      "metadata": {
        "id": "belt-EXl5kNL",
        "colab_type": "code",
        "colab": {
          "base_uri": "https://localhost:8080/",
          "height": 594
        },
        "outputId": "e3d2b99e-c83d-4a0f-e8b0-37233822ea03"
      },
      "source": [
        "THRESHOLD = 0.07 # change\n",
        "check_graph(ANOMALY_SCORE, CHECK_ATT, piece=2, THRESHOLD=THRESHOLD)"
      ],
      "execution_count": 69,
      "outputs": [
        {
          "output_type": "display_data",
          "data": {
            "image/png": "[encoded data removed]",
            "text/plain": [
              "<Figure size 1440x864 with 2 Axes>"
            ]
          },
          "metadata": {
            "tags": [],
            "needs_background": "light"
          }
        }
      ]
    },
    {
      "cell_type": "code",
      "metadata": {
        "id": "H5nZHLHL6m5V",
        "colab_type": "code",
        "colab": {
          "base_uri": "https://localhost:8080/",
          "height": 69
        },
        "outputId": "08e41370-3847-4b94-8d6d-6d76e5ce7392"
      },
      "source": [
        "LABELS = put_labels(ANOMALY_SCORE, THRESHOLD)\n",
        "display(LABELS, LABELS.shape) #(43112,)\n",
        "LABELS = fill_blank(CHECK_TS, LABELS, np.array(VALIDATION_DATASET['time']))\n",
        "print(LABELS.shape)"
      ],
      "execution_count": 70,
      "outputs": [
        {
          "output_type": "display_data",
          "data": {
            "text/plain": [
              "array([0., 0., 0., ..., 0., 0., 0.], dtype=float32)"
            ]
          },
          "metadata": {
            "tags": []
          }
        },
        {
          "output_type": "display_data",
          "data": {
            "text/plain": [
              "(43152,)"
            ]
          },
          "metadata": {
            "tags": []
          }
        },
        {
          "output_type": "stream",
          "text": [
            "(43201,)\n"
          ],
          "name": "stdout"
        }
      ]
    },
    {
      "cell_type": "code",
      "metadata": {
        "id": "AwPf8Aev-kfF",
        "colab_type": "code",
        "colab": {
          "base_uri": "https://localhost:8080/",
          "height": 34
        },
        "outputId": "42215623-1a74-4866-ab64-6a3900f75244"
      },
      "source": [
        "ATTACK_LABELS = np.squeeze(np.array(VALIDATION_DATASET['attack']))\n",
        "# ATTACK_LABELS = put_labels(np.array(VALIDATION_DF_RAW[ATTACK_FIELD]), 0.5)\n",
        "ATTACK_LABELS, ATTACK_LABELS.shape"
      ],
      "execution_count": 60,
      "outputs": [
        {
          "output_type": "execute_result",
          "data": {
            "text/plain": [
              "(array([0, 0, 0, ..., 0, 0, 0]), (43201,))"
            ]
          },
          "metadata": {
            "tags": []
          },
          "execution_count": 60
        }
      ]
    },
    {
      "cell_type": "code",
      "metadata": {
        "id": "ZmyBdAuq9IqB",
        "colab_type": "code",
        "colab": {
          "base_uri": "https://localhost:8080/",
          "height": 34
        },
        "outputId": "d3c78473-3cef-4edd-a19a-02bb226ef0b3"
      },
      "source": [
        "ATTACK_LABELS.shape[0] == LABELS.shape[0]"
      ],
      "execution_count": 61,
      "outputs": [
        {
          "output_type": "execute_result",
          "data": {
            "text/plain": [
              "True"
            ]
          },
          "metadata": {
            "tags": []
          },
          "execution_count": 61
        }
      ]
    },
    {
      "cell_type": "markdown",
      "metadata": {
        "id": "eBijJ0cOC39L",
        "colab_type": "text"
      },
      "source": [
        "### Get score"
      ]
    },
    {
      "cell_type": "code",
      "metadata": {
        "id": "gwJMvZzKC5Rm",
        "colab_type": "code",
        "colab": {
          "base_uri": "https://localhost:8080/",
          "height": 69
        },
        "outputId": "ef10a61b-2700-45a0-bb96-856877767b46"
      },
      "source": [
        "TaPR = etapr.evaluate(anomalies=ATTACK_LABELS, predictions=LABELS)\n",
        "print(f\"F1: {TaPR['f1']:.3f} (TaP: {TaPR['TaP']:.3f}, TaR: {TaPR['TaR']:.3f})\")\n",
        "print(f\"# of detected anomalies: {len(TaPR['Detected_Anomalies'])}\")\n",
        "print(f\"Detected anomalies: {TaPR['Detected_Anomalies']}\")"
      ],
      "execution_count": 71,
      "outputs": [
        {
          "output_type": "stream",
          "text": [
            "F1: 0.939 (TaP: 0.997, TaR: 0.888)\n",
            "# of detected anomalies: 5\n",
            "Detected anomalies: ['1', '2', '3', '4', '5']\n"
          ],
          "name": "stdout"
        }
      ]
    },
    {
      "cell_type": "markdown",
      "metadata": {
        "id": "ePAQRZ6LDNCQ",
        "colab_type": "text"
      },
      "source": [
        "## Test"
      ]
    },
    {
      "cell_type": "code",
      "metadata": {
        "id": "g__CDBh4DN9b",
        "colab_type": "code",
        "colab": {
          "base_uri": "https://localhost:8080/",
          "height": 52
        },
        "outputId": "0b1db318-0e5f-47fb-e842-476f14098521"
      },
      "source": [
        "%%time\n",
        "MODEL.eval()\n",
        "CHECK_TS, CHECK_DIST, CHECK_ATT = inference(HAI_TEST, MODEL, BATCH_SIZE)"
      ],
      "execution_count": 72,
      "outputs": [
        {
          "output_type": "stream",
          "text": [
            "CPU times: user 54.6 s, sys: 16 s, total: 1min 10s\n",
            "Wall time: 1min 10s\n"
          ],
          "name": "stdout"
        }
      ]
    },
    {
      "cell_type": "code",
      "metadata": {
        "id": "WqirWXUOES-k",
        "colab_type": "code",
        "colab": {
          "base_uri": "https://localhost:8080/",
          "height": 34
        },
        "outputId": "4ed3eb42-fff5-46fd-9026-ec2f07644e2e"
      },
      "source": [
        "ANOMALY_SCORE = np.mean(CHECK_DIST, axis=1)\n",
        "ANOMALY_SCORE.shape"
      ],
      "execution_count": 73,
      "outputs": [
        {
          "output_type": "execute_result",
          "data": {
            "text/plain": [
              "(358608,)"
            ]
          },
          "metadata": {
            "tags": []
          },
          "execution_count": 73
        }
      ]
    },
    {
      "cell_type": "code",
      "metadata": {
        "id": "jBQFMdtOEWuc",
        "colab_type": "code",
        "colab": {
          "base_uri": "https://localhost:8080/",
          "height": 872
        },
        "outputId": "b5a79156-dd8b-4c7b-9449-48f9e0de027b"
      },
      "source": [
        "check_graph(ANOMALY_SCORE, CHECK_ATT, piece=3, THRESHOLD=THRESHOLD)"
      ],
      "execution_count": 74,
      "outputs": [
        {
          "output_type": "display_data",
          "data": {
            "image/png": "[encoded data removed]",
            "text/plain": [
              "<Figure size 1440x1296 with 3 Axes>"
            ]
          },
          "metadata": {
            "tags": [],
            "needs_background": "light"
          }
        }
      ]
    },
    {
      "cell_type": "code",
      "metadata": {
        "id": "PGkePwQUEVVT",
        "colab_type": "code",
        "colab": {
          "base_uri": "https://localhost:8080/",
          "height": 34
        },
        "outputId": "d0d6798d-ec13-48ab-8da6-e04c62b771a1"
      },
      "source": [
        "LABELS = put_labels(ANOMALY_SCORE, THRESHOLD)\n",
        "LABELS, LABELS.shape"
      ],
      "execution_count": 75,
      "outputs": [
        {
          "output_type": "execute_result",
          "data": {
            "text/plain": [
              "(array([0., 0., 0., ..., 0., 0., 0.], dtype=float32), (358608,))"
            ]
          },
          "metadata": {
            "tags": []
          },
          "execution_count": 75
        }
      ]
    },
    {
      "cell_type": "code",
      "metadata": {
        "id": "VvLvZBSpEz2R",
        "colab_type": "code",
        "colab": {
          "base_uri": "https://localhost:8080/",
          "height": 434
        },
        "outputId": "70b0bf4e-a146-412f-979e-04cff9352e0d"
      },
      "source": [
        "submission = pd.read_csv(HOME + '/data/sample_submission.csv')\n",
        "submission.index = submission['time']\n",
        "submission.loc[CHECK_TS,'attack'] = LABELS\n",
        "submission"
      ],
      "execution_count": 76,
      "outputs": [
        {
          "output_type": "execute_result",
          "data": {
            "text/html": [
              "<div>\n",
              "<style scoped>\n",
              "    .dataframe tbody tr th:only-of-type {\n",
              "        vertical-align: middle;\n",
              "    }\n",
              "\n",
              "    .dataframe tbody tr th {\n",
              "        vertical-align: top;\n",
              "    }\n",
              "\n",
              "    .dataframe thead th {\n",
              "        text-align: right;\n",
              "    }\n",
              "</style>\n",
              "<table border=\"1\" class=\"dataframe\">\n",
              "  <thead>\n",
              "    <tr style=\"text-align: right;\">\n",
              "      <th></th>\n",
              "      <th>time</th>\n",
              "      <th>attack</th>\n",
              "    </tr>\n",
              "    <tr>\n",
              "      <th>time</th>\n",
              "      <th></th>\n",
              "      <th></th>\n",
              "    </tr>\n",
              "  </thead>\n",
              "  <tbody>\n",
              "    <tr>\n",
              "      <th>2020-07-09 15:00:00</th>\n",
              "      <td>2020-07-09 15:00:00</td>\n",
              "      <td>0.0</td>\n",
              "    </tr>\n",
              "    <tr>\n",
              "      <th>2020-07-09 15:00:01</th>\n",
              "      <td>2020-07-09 15:00:01</td>\n",
              "      <td>0.0</td>\n",
              "    </tr>\n",
              "    <tr>\n",
              "      <th>2020-07-09 15:00:02</th>\n",
              "      <td>2020-07-09 15:00:02</td>\n",
              "      <td>0.0</td>\n",
              "    </tr>\n",
              "    <tr>\n",
              "      <th>2020-07-09 15:00:03</th>\n",
              "      <td>2020-07-09 15:00:03</td>\n",
              "      <td>0.0</td>\n",
              "    </tr>\n",
              "    <tr>\n",
              "      <th>2020-07-09 15:00:04</th>\n",
              "      <td>2020-07-09 15:00:04</td>\n",
              "      <td>0.0</td>\n",
              "    </tr>\n",
              "    <tr>\n",
              "      <th>...</th>\n",
              "      <td>...</td>\n",
              "      <td>...</td>\n",
              "    </tr>\n",
              "    <tr>\n",
              "      <th>2020-07-31 12:29:56</th>\n",
              "      <td>2020-07-31 12:29:56</td>\n",
              "      <td>0.0</td>\n",
              "    </tr>\n",
              "    <tr>\n",
              "      <th>2020-07-31 12:29:57</th>\n",
              "      <td>2020-07-31 12:29:57</td>\n",
              "      <td>0.0</td>\n",
              "    </tr>\n",
              "    <tr>\n",
              "      <th>2020-07-31 12:29:58</th>\n",
              "      <td>2020-07-31 12:29:58</td>\n",
              "      <td>0.0</td>\n",
              "    </tr>\n",
              "    <tr>\n",
              "      <th>2020-07-31 12:29:59</th>\n",
              "      <td>2020-07-31 12:29:59</td>\n",
              "      <td>0.0</td>\n",
              "    </tr>\n",
              "    <tr>\n",
              "      <th>2020-07-31 12:30:00</th>\n",
              "      <td>2020-07-31 12:30:00</td>\n",
              "      <td>0.0</td>\n",
              "    </tr>\n",
              "  </tbody>\n",
              "</table>\n",
              "<p>358804 rows × 2 columns</p>\n",
              "</div>"
            ],
            "text/plain": [
              "                                    time  attack\n",
              "time                                            \n",
              "2020-07-09 15:00:00  2020-07-09 15:00:00     0.0\n",
              "2020-07-09 15:00:01  2020-07-09 15:00:01     0.0\n",
              "2020-07-09 15:00:02  2020-07-09 15:00:02     0.0\n",
              "2020-07-09 15:00:03  2020-07-09 15:00:03     0.0\n",
              "2020-07-09 15:00:04  2020-07-09 15:00:04     0.0\n",
              "...                                  ...     ...\n",
              "2020-07-31 12:29:56  2020-07-31 12:29:56     0.0\n",
              "2020-07-31 12:29:57  2020-07-31 12:29:57     0.0\n",
              "2020-07-31 12:29:58  2020-07-31 12:29:58     0.0\n",
              "2020-07-31 12:29:59  2020-07-31 12:29:59     0.0\n",
              "2020-07-31 12:30:00  2020-07-31 12:30:00     0.0\n",
              "\n",
              "[358804 rows x 2 columns]"
            ]
          },
          "metadata": {
            "tags": []
          },
          "execution_count": 76
        }
      ]
    },
    {
      "cell_type": "code",
      "metadata": {
        "id": "ql3vq1PZFATJ",
        "colab_type": "code",
        "colab": {}
      },
      "source": [
        "submission.to_csv('new_gru.csv', index=False)"
      ],
      "execution_count": 77,
      "outputs": []
    },
    {
      "cell_type": "code",
      "metadata": {
        "id": "xv92Sqx0fxJc",
        "colab_type": "code",
        "colab": {}
      },
      "source": [
        ""
      ],
      "execution_count": null,
      "outputs": []
    }
  ]
}